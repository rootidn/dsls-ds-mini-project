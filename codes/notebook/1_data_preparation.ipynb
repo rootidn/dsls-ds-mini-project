{
 "cells": [
  {
   "cell_type": "code",
   "execution_count": 1,
   "metadata": {},
   "outputs": [],
   "source": [
    "import numpy as np\n",
    "import pandas as pd\n",
    "from matplotlib import pyplot as plt\n",
    "# import seaborn as sns\n",
    "pd.options.plotting.backend = \"plotly\"\n",
    "# pd.options.plotting.backend = \"matplotlib\"\n",
    "import datetime\n",
    "# import math\n",
    "# import pandas_profiling as pp"
   ]
  },
  {
   "cell_type": "code",
   "execution_count": 2,
   "metadata": {},
   "outputs": [],
   "source": [
    "# dataset path\n",
    "alerts_path = r'D:\\DSLS\\Mini project\\DS\\clean_code\\data\\raw\\aggregate_alerts_Kota Bogor.csv'\n",
    "median_irregularities_path = r'D:\\DSLS\\Mini project\\DS\\clean_code\\data\\raw\\aggregate_median_irregularities_Kota Bogor.csv'\n",
    "median_jams_path = r'D:\\DSLS\\Mini project\\DS\\clean_code\\data\\raw\\aggregate_median_jams_Kota Bogor.csv'"
   ]
  },
  {
   "attachments": {},
   "cell_type": "markdown",
   "metadata": {},
   "source": [
    "# Data understanding"
   ]
  },
  {
   "cell_type": "markdown",
   "metadata": {},
   "source": [
    "## Jams"
   ]
  },
  {
   "cell_type": "code",
   "execution_count": 11,
   "metadata": {},
   "outputs": [
    {
     "data": {
      "text/html": [
       "<div>\n",
       "<style scoped>\n",
       "    .dataframe tbody tr th:only-of-type {\n",
       "        vertical-align: middle;\n",
       "    }\n",
       "\n",
       "    .dataframe tbody tr th {\n",
       "        vertical-align: top;\n",
       "    }\n",
       "\n",
       "    .dataframe thead th {\n",
       "        text-align: right;\n",
       "    }\n",
       "</style>\n",
       "<table border=\"1\" class=\"dataframe\">\n",
       "  <thead>\n",
       "    <tr style=\"text-align: right;\">\n",
       "      <th></th>\n",
       "      <th>time</th>\n",
       "      <th>kemendagri_kabupaten_kode</th>\n",
       "      <th>kemendagri_kabupaten_nama</th>\n",
       "      <th>street</th>\n",
       "      <th>level</th>\n",
       "      <th>median_length</th>\n",
       "      <th>median_delay</th>\n",
       "      <th>median_speed_kmh</th>\n",
       "      <th>total_records</th>\n",
       "      <th>id</th>\n",
       "      <th>date</th>\n",
       "      <th>median_level</th>\n",
       "      <th>geometry</th>\n",
       "    </tr>\n",
       "  </thead>\n",
       "  <tbody>\n",
       "    <tr>\n",
       "      <th>0</th>\n",
       "      <td>2022-07-06 00:00:00.000</td>\n",
       "      <td>32.71</td>\n",
       "      <td>KOTA BOGOR</td>\n",
       "      <td>Pahlawan</td>\n",
       "      <td>2</td>\n",
       "      <td>784.0</td>\n",
       "      <td>62.0</td>\n",
       "      <td>20.310001</td>\n",
       "      <td>4</td>\n",
       "      <td>33469021</td>\n",
       "      <td>2022-07-06</td>\n",
       "      <td>2.0</td>\n",
       "      <td>MULTILINESTRING ((106.797269 -6.608899, 106.79...</td>\n",
       "    </tr>\n",
       "    <tr>\n",
       "      <th>1</th>\n",
       "      <td>2022-07-06 00:00:00.000</td>\n",
       "      <td>32.71</td>\n",
       "      <td>KOTA BOGOR</td>\n",
       "      <td>Tol Lingkar Luar Bogor</td>\n",
       "      <td>2</td>\n",
       "      <td>1314.0</td>\n",
       "      <td>63.0</td>\n",
       "      <td>37.710000</td>\n",
       "      <td>2</td>\n",
       "      <td>33469023</td>\n",
       "      <td>2022-07-06</td>\n",
       "      <td>2.0</td>\n",
       "      <td>LINESTRING (106.787027 -6.559782, 106.787701 -...</td>\n",
       "    </tr>\n",
       "    <tr>\n",
       "      <th>2</th>\n",
       "      <td>2022-07-06 00:00:00.000</td>\n",
       "      <td>32.71</td>\n",
       "      <td>KOTA BOGOR</td>\n",
       "      <td>KH Soleh Iskandar (Jalur Lambat)</td>\n",
       "      <td>5</td>\n",
       "      <td>167.0</td>\n",
       "      <td>-1.0</td>\n",
       "      <td>0.000000</td>\n",
       "      <td>61</td>\n",
       "      <td>33469019</td>\n",
       "      <td>2022-07-06</td>\n",
       "      <td>5.0</td>\n",
       "      <td>MULTILINESTRING ((106.800516 -6.561997, 106.80...</td>\n",
       "    </tr>\n",
       "  </tbody>\n",
       "</table>\n",
       "</div>"
      ],
      "text/plain": [
       "                      time  kemendagri_kabupaten_kode  \\\n",
       "0  2022-07-06 00:00:00.000                      32.71   \n",
       "1  2022-07-06 00:00:00.000                      32.71   \n",
       "2  2022-07-06 00:00:00.000                      32.71   \n",
       "\n",
       "  kemendagri_kabupaten_nama                            street  level  \\\n",
       "0                KOTA BOGOR                          Pahlawan      2   \n",
       "1                KOTA BOGOR            Tol Lingkar Luar Bogor      2   \n",
       "2                KOTA BOGOR  KH Soleh Iskandar (Jalur Lambat)      5   \n",
       "\n",
       "   median_length  median_delay  median_speed_kmh  total_records        id  \\\n",
       "0          784.0          62.0         20.310001              4  33469021   \n",
       "1         1314.0          63.0         37.710000              2  33469023   \n",
       "2          167.0          -1.0          0.000000             61  33469019   \n",
       "\n",
       "         date  median_level                                           geometry  \n",
       "0  2022-07-06           2.0  MULTILINESTRING ((106.797269 -6.608899, 106.79...  \n",
       "1  2022-07-06           2.0  LINESTRING (106.787027 -6.559782, 106.787701 -...  \n",
       "2  2022-07-06           5.0  MULTILINESTRING ((106.800516 -6.561997, 106.80...  "
      ]
     },
     "execution_count": 11,
     "metadata": {},
     "output_type": "execute_result"
    }
   ],
   "source": [
    "df_jams = pd.read_csv(median_jams_path)\n",
    "df_jams = df_jams.drop(['Unnamed: 0'], axis=1)\n",
    "df_jams.head(3)"
   ]
  },
  {
   "cell_type": "code",
   "execution_count": null,
   "metadata": {},
   "outputs": [
    {
     "data": {
      "application/vnd.plotly.v1+json": {
       "config": {
        "plotlyServerURL": "https://plot.ly"
       },
       "data": [
        {
         "alignmentgroup": "True",
         "hovertemplate": "variable=0<br>index=%{x}<br>value=%{y}<extra></extra>",
         "legendgroup": "0",
         "marker": {
          "color": "#636efa",
          "pattern": {
           "shape": ""
          }
         },
         "name": "0",
         "offsetgroup": "0",
         "orientation": "v",
         "showlegend": true,
         "textposition": "auto",
         "type": "bar",
         "x": [
          "time",
          "kemendagri_kabupaten_kode",
          "kemendagri_kabupaten_nama",
          "street",
          "level",
          "median_length",
          "median_delay",
          "median_speed_kmh",
          "total_records",
          "id",
          "date",
          "median_level",
          "geometry"
         ],
         "xaxis": "x",
         "y": [
          0,
          0,
          0,
          1793,
          0,
          0,
          0,
          0,
          0,
          0,
          0,
          0,
          0
         ],
         "yaxis": "y"
        }
       ],
       "layout": {
        "barmode": "relative",
        "legend": {
         "title": {
          "text": "variable"
         },
         "tracegroupgap": 0
        },
        "margin": {
         "t": 60
        },
        "template": {
         "data": {
          "bar": [
           {
            "error_x": {
             "color": "#2a3f5f"
            },
            "error_y": {
             "color": "#2a3f5f"
            },
            "marker": {
             "line": {
              "color": "#E5ECF6",
              "width": 0.5
             },
             "pattern": {
              "fillmode": "overlay",
              "size": 10,
              "solidity": 0.2
             }
            },
            "type": "bar"
           }
          ],
          "barpolar": [
           {
            "marker": {
             "line": {
              "color": "#E5ECF6",
              "width": 0.5
             },
             "pattern": {
              "fillmode": "overlay",
              "size": 10,
              "solidity": 0.2
             }
            },
            "type": "barpolar"
           }
          ],
          "carpet": [
           {
            "aaxis": {
             "endlinecolor": "#2a3f5f",
             "gridcolor": "white",
             "linecolor": "white",
             "minorgridcolor": "white",
             "startlinecolor": "#2a3f5f"
            },
            "baxis": {
             "endlinecolor": "#2a3f5f",
             "gridcolor": "white",
             "linecolor": "white",
             "minorgridcolor": "white",
             "startlinecolor": "#2a3f5f"
            },
            "type": "carpet"
           }
          ],
          "choropleth": [
           {
            "colorbar": {
             "outlinewidth": 0,
             "ticks": ""
            },
            "type": "choropleth"
           }
          ],
          "contour": [
           {
            "colorbar": {
             "outlinewidth": 0,
             "ticks": ""
            },
            "colorscale": [
             [
              0,
              "#0d0887"
             ],
             [
              0.1111111111111111,
              "#46039f"
             ],
             [
              0.2222222222222222,
              "#7201a8"
             ],
             [
              0.3333333333333333,
              "#9c179e"
             ],
             [
              0.4444444444444444,
              "#bd3786"
             ],
             [
              0.5555555555555556,
              "#d8576b"
             ],
             [
              0.6666666666666666,
              "#ed7953"
             ],
             [
              0.7777777777777778,
              "#fb9f3a"
             ],
             [
              0.8888888888888888,
              "#fdca26"
             ],
             [
              1,
              "#f0f921"
             ]
            ],
            "type": "contour"
           }
          ],
          "contourcarpet": [
           {
            "colorbar": {
             "outlinewidth": 0,
             "ticks": ""
            },
            "type": "contourcarpet"
           }
          ],
          "heatmap": [
           {
            "colorbar": {
             "outlinewidth": 0,
             "ticks": ""
            },
            "colorscale": [
             [
              0,
              "#0d0887"
             ],
             [
              0.1111111111111111,
              "#46039f"
             ],
             [
              0.2222222222222222,
              "#7201a8"
             ],
             [
              0.3333333333333333,
              "#9c179e"
             ],
             [
              0.4444444444444444,
              "#bd3786"
             ],
             [
              0.5555555555555556,
              "#d8576b"
             ],
             [
              0.6666666666666666,
              "#ed7953"
             ],
             [
              0.7777777777777778,
              "#fb9f3a"
             ],
             [
              0.8888888888888888,
              "#fdca26"
             ],
             [
              1,
              "#f0f921"
             ]
            ],
            "type": "heatmap"
           }
          ],
          "heatmapgl": [
           {
            "colorbar": {
             "outlinewidth": 0,
             "ticks": ""
            },
            "colorscale": [
             [
              0,
              "#0d0887"
             ],
             [
              0.1111111111111111,
              "#46039f"
             ],
             [
              0.2222222222222222,
              "#7201a8"
             ],
             [
              0.3333333333333333,
              "#9c179e"
             ],
             [
              0.4444444444444444,
              "#bd3786"
             ],
             [
              0.5555555555555556,
              "#d8576b"
             ],
             [
              0.6666666666666666,
              "#ed7953"
             ],
             [
              0.7777777777777778,
              "#fb9f3a"
             ],
             [
              0.8888888888888888,
              "#fdca26"
             ],
             [
              1,
              "#f0f921"
             ]
            ],
            "type": "heatmapgl"
           }
          ],
          "histogram": [
           {
            "marker": {
             "pattern": {
              "fillmode": "overlay",
              "size": 10,
              "solidity": 0.2
             }
            },
            "type": "histogram"
           }
          ],
          "histogram2d": [
           {
            "colorbar": {
             "outlinewidth": 0,
             "ticks": ""
            },
            "colorscale": [
             [
              0,
              "#0d0887"
             ],
             [
              0.1111111111111111,
              "#46039f"
             ],
             [
              0.2222222222222222,
              "#7201a8"
             ],
             [
              0.3333333333333333,
              "#9c179e"
             ],
             [
              0.4444444444444444,
              "#bd3786"
             ],
             [
              0.5555555555555556,
              "#d8576b"
             ],
             [
              0.6666666666666666,
              "#ed7953"
             ],
             [
              0.7777777777777778,
              "#fb9f3a"
             ],
             [
              0.8888888888888888,
              "#fdca26"
             ],
             [
              1,
              "#f0f921"
             ]
            ],
            "type": "histogram2d"
           }
          ],
          "histogram2dcontour": [
           {
            "colorbar": {
             "outlinewidth": 0,
             "ticks": ""
            },
            "colorscale": [
             [
              0,
              "#0d0887"
             ],
             [
              0.1111111111111111,
              "#46039f"
             ],
             [
              0.2222222222222222,
              "#7201a8"
             ],
             [
              0.3333333333333333,
              "#9c179e"
             ],
             [
              0.4444444444444444,
              "#bd3786"
             ],
             [
              0.5555555555555556,
              "#d8576b"
             ],
             [
              0.6666666666666666,
              "#ed7953"
             ],
             [
              0.7777777777777778,
              "#fb9f3a"
             ],
             [
              0.8888888888888888,
              "#fdca26"
             ],
             [
              1,
              "#f0f921"
             ]
            ],
            "type": "histogram2dcontour"
           }
          ],
          "mesh3d": [
           {
            "colorbar": {
             "outlinewidth": 0,
             "ticks": ""
            },
            "type": "mesh3d"
           }
          ],
          "parcoords": [
           {
            "line": {
             "colorbar": {
              "outlinewidth": 0,
              "ticks": ""
             }
            },
            "type": "parcoords"
           }
          ],
          "pie": [
           {
            "automargin": true,
            "type": "pie"
           }
          ],
          "scatter": [
           {
            "fillpattern": {
             "fillmode": "overlay",
             "size": 10,
             "solidity": 0.2
            },
            "type": "scatter"
           }
          ],
          "scatter3d": [
           {
            "line": {
             "colorbar": {
              "outlinewidth": 0,
              "ticks": ""
             }
            },
            "marker": {
             "colorbar": {
              "outlinewidth": 0,
              "ticks": ""
             }
            },
            "type": "scatter3d"
           }
          ],
          "scattercarpet": [
           {
            "marker": {
             "colorbar": {
              "outlinewidth": 0,
              "ticks": ""
             }
            },
            "type": "scattercarpet"
           }
          ],
          "scattergeo": [
           {
            "marker": {
             "colorbar": {
              "outlinewidth": 0,
              "ticks": ""
             }
            },
            "type": "scattergeo"
           }
          ],
          "scattergl": [
           {
            "marker": {
             "colorbar": {
              "outlinewidth": 0,
              "ticks": ""
             }
            },
            "type": "scattergl"
           }
          ],
          "scattermapbox": [
           {
            "marker": {
             "colorbar": {
              "outlinewidth": 0,
              "ticks": ""
             }
            },
            "type": "scattermapbox"
           }
          ],
          "scatterpolar": [
           {
            "marker": {
             "colorbar": {
              "outlinewidth": 0,
              "ticks": ""
             }
            },
            "type": "scatterpolar"
           }
          ],
          "scatterpolargl": [
           {
            "marker": {
             "colorbar": {
              "outlinewidth": 0,
              "ticks": ""
             }
            },
            "type": "scatterpolargl"
           }
          ],
          "scatterternary": [
           {
            "marker": {
             "colorbar": {
              "outlinewidth": 0,
              "ticks": ""
             }
            },
            "type": "scatterternary"
           }
          ],
          "surface": [
           {
            "colorbar": {
             "outlinewidth": 0,
             "ticks": ""
            },
            "colorscale": [
             [
              0,
              "#0d0887"
             ],
             [
              0.1111111111111111,
              "#46039f"
             ],
             [
              0.2222222222222222,
              "#7201a8"
             ],
             [
              0.3333333333333333,
              "#9c179e"
             ],
             [
              0.4444444444444444,
              "#bd3786"
             ],
             [
              0.5555555555555556,
              "#d8576b"
             ],
             [
              0.6666666666666666,
              "#ed7953"
             ],
             [
              0.7777777777777778,
              "#fb9f3a"
             ],
             [
              0.8888888888888888,
              "#fdca26"
             ],
             [
              1,
              "#f0f921"
             ]
            ],
            "type": "surface"
           }
          ],
          "table": [
           {
            "cells": {
             "fill": {
              "color": "#EBF0F8"
             },
             "line": {
              "color": "white"
             }
            },
            "header": {
             "fill": {
              "color": "#C8D4E3"
             },
             "line": {
              "color": "white"
             }
            },
            "type": "table"
           }
          ]
         },
         "layout": {
          "annotationdefaults": {
           "arrowcolor": "#2a3f5f",
           "arrowhead": 0,
           "arrowwidth": 1
          },
          "autotypenumbers": "strict",
          "coloraxis": {
           "colorbar": {
            "outlinewidth": 0,
            "ticks": ""
           }
          },
          "colorscale": {
           "diverging": [
            [
             0,
             "#8e0152"
            ],
            [
             0.1,
             "#c51b7d"
            ],
            [
             0.2,
             "#de77ae"
            ],
            [
             0.3,
             "#f1b6da"
            ],
            [
             0.4,
             "#fde0ef"
            ],
            [
             0.5,
             "#f7f7f7"
            ],
            [
             0.6,
             "#e6f5d0"
            ],
            [
             0.7,
             "#b8e186"
            ],
            [
             0.8,
             "#7fbc41"
            ],
            [
             0.9,
             "#4d9221"
            ],
            [
             1,
             "#276419"
            ]
           ],
           "sequential": [
            [
             0,
             "#0d0887"
            ],
            [
             0.1111111111111111,
             "#46039f"
            ],
            [
             0.2222222222222222,
             "#7201a8"
            ],
            [
             0.3333333333333333,
             "#9c179e"
            ],
            [
             0.4444444444444444,
             "#bd3786"
            ],
            [
             0.5555555555555556,
             "#d8576b"
            ],
            [
             0.6666666666666666,
             "#ed7953"
            ],
            [
             0.7777777777777778,
             "#fb9f3a"
            ],
            [
             0.8888888888888888,
             "#fdca26"
            ],
            [
             1,
             "#f0f921"
            ]
           ],
           "sequentialminus": [
            [
             0,
             "#0d0887"
            ],
            [
             0.1111111111111111,
             "#46039f"
            ],
            [
             0.2222222222222222,
             "#7201a8"
            ],
            [
             0.3333333333333333,
             "#9c179e"
            ],
            [
             0.4444444444444444,
             "#bd3786"
            ],
            [
             0.5555555555555556,
             "#d8576b"
            ],
            [
             0.6666666666666666,
             "#ed7953"
            ],
            [
             0.7777777777777778,
             "#fb9f3a"
            ],
            [
             0.8888888888888888,
             "#fdca26"
            ],
            [
             1,
             "#f0f921"
            ]
           ]
          },
          "colorway": [
           "#636efa",
           "#EF553B",
           "#00cc96",
           "#ab63fa",
           "#FFA15A",
           "#19d3f3",
           "#FF6692",
           "#B6E880",
           "#FF97FF",
           "#FECB52"
          ],
          "font": {
           "color": "#2a3f5f"
          },
          "geo": {
           "bgcolor": "white",
           "lakecolor": "white",
           "landcolor": "#E5ECF6",
           "showlakes": true,
           "showland": true,
           "subunitcolor": "white"
          },
          "hoverlabel": {
           "align": "left"
          },
          "hovermode": "closest",
          "mapbox": {
           "style": "light"
          },
          "paper_bgcolor": "white",
          "plot_bgcolor": "#E5ECF6",
          "polar": {
           "angularaxis": {
            "gridcolor": "white",
            "linecolor": "white",
            "ticks": ""
           },
           "bgcolor": "#E5ECF6",
           "radialaxis": {
            "gridcolor": "white",
            "linecolor": "white",
            "ticks": ""
           }
          },
          "scene": {
           "xaxis": {
            "backgroundcolor": "#E5ECF6",
            "gridcolor": "white",
            "gridwidth": 2,
            "linecolor": "white",
            "showbackground": true,
            "ticks": "",
            "zerolinecolor": "white"
           },
           "yaxis": {
            "backgroundcolor": "#E5ECF6",
            "gridcolor": "white",
            "gridwidth": 2,
            "linecolor": "white",
            "showbackground": true,
            "ticks": "",
            "zerolinecolor": "white"
           },
           "zaxis": {
            "backgroundcolor": "#E5ECF6",
            "gridcolor": "white",
            "gridwidth": 2,
            "linecolor": "white",
            "showbackground": true,
            "ticks": "",
            "zerolinecolor": "white"
           }
          },
          "shapedefaults": {
           "line": {
            "color": "#2a3f5f"
           }
          },
          "ternary": {
           "aaxis": {
            "gridcolor": "white",
            "linecolor": "white",
            "ticks": ""
           },
           "baxis": {
            "gridcolor": "white",
            "linecolor": "white",
            "ticks": ""
           },
           "bgcolor": "#E5ECF6",
           "caxis": {
            "gridcolor": "white",
            "linecolor": "white",
            "ticks": ""
           }
          },
          "title": {
           "x": 0.05
          },
          "xaxis": {
           "automargin": true,
           "gridcolor": "white",
           "linecolor": "white",
           "ticks": "",
           "title": {
            "standoff": 15
           },
           "zerolinecolor": "white",
           "zerolinewidth": 2
          },
          "yaxis": {
           "automargin": true,
           "gridcolor": "white",
           "linecolor": "white",
           "ticks": "",
           "title": {
            "standoff": 15
           },
           "zerolinecolor": "white",
           "zerolinewidth": 2
          }
         }
        },
        "xaxis": {
         "anchor": "y",
         "domain": [
          0,
          1
         ],
         "title": {
          "text": "index"
         }
        },
        "yaxis": {
         "anchor": "x",
         "domain": [
          0,
          1
         ],
         "title": {
          "text": "value"
         }
        }
       }
      }
     },
     "metadata": {},
     "output_type": "display_data"
    }
   ],
   "source": [
    "# analisis null value\n",
    "df_jams.isna().sum().plot(kind='bar')"
   ]
  },
  {
   "cell_type": "code",
   "execution_count": null,
   "metadata": {},
   "outputs": [
    {
     "data": {
      "text/html": [
       "<div>\n",
       "<style scoped>\n",
       "    .dataframe tbody tr th:only-of-type {\n",
       "        vertical-align: middle;\n",
       "    }\n",
       "\n",
       "    .dataframe tbody tr th {\n",
       "        vertical-align: top;\n",
       "    }\n",
       "\n",
       "    .dataframe thead th {\n",
       "        text-align: right;\n",
       "    }\n",
       "</style>\n",
       "<table border=\"1\" class=\"dataframe\">\n",
       "  <thead>\n",
       "    <tr style=\"text-align: right;\">\n",
       "      <th></th>\n",
       "      <th>Unnamed: 0</th>\n",
       "      <th>kemendagri_kabupaten_kode</th>\n",
       "      <th>level</th>\n",
       "      <th>median_length</th>\n",
       "      <th>median_delay</th>\n",
       "      <th>median_speed_kmh</th>\n",
       "      <th>total_records</th>\n",
       "      <th>id</th>\n",
       "      <th>median_level</th>\n",
       "    </tr>\n",
       "  </thead>\n",
       "  <tbody>\n",
       "    <tr>\n",
       "      <th>count</th>\n",
       "      <td>102322.000000</td>\n",
       "      <td>1.023220e+05</td>\n",
       "      <td>102322.000000</td>\n",
       "      <td>102322.000000</td>\n",
       "      <td>102322.000000</td>\n",
       "      <td>102322.000000</td>\n",
       "      <td>102322.000000</td>\n",
       "      <td>1.023220e+05</td>\n",
       "      <td>102322.000000</td>\n",
       "    </tr>\n",
       "    <tr>\n",
       "      <th>mean</th>\n",
       "      <td>33353.589345</td>\n",
       "      <td>3.271000e+01</td>\n",
       "      <td>2.433758</td>\n",
       "      <td>840.802794</td>\n",
       "      <td>131.969029</td>\n",
       "      <td>14.084945</td>\n",
       "      <td>17.575673</td>\n",
       "      <td>3.539966e+07</td>\n",
       "      <td>2.433758</td>\n",
       "    </tr>\n",
       "    <tr>\n",
       "      <th>std</th>\n",
       "      <td>23566.968434</td>\n",
       "      <td>2.131639e-14</td>\n",
       "      <td>1.002043</td>\n",
       "      <td>549.866997</td>\n",
       "      <td>109.430777</td>\n",
       "      <td>7.975882</td>\n",
       "      <td>20.682176</td>\n",
       "      <td>1.092828e+06</td>\n",
       "      <td>1.002043</td>\n",
       "    </tr>\n",
       "    <tr>\n",
       "      <th>min</th>\n",
       "      <td>0.000000</td>\n",
       "      <td>3.271000e+01</td>\n",
       "      <td>1.000000</td>\n",
       "      <td>13.000000</td>\n",
       "      <td>-1.000000</td>\n",
       "      <td>0.000000</td>\n",
       "      <td>1.000000</td>\n",
       "      <td>3.346902e+07</td>\n",
       "      <td>1.000000</td>\n",
       "    </tr>\n",
       "    <tr>\n",
       "      <th>25%</th>\n",
       "      <td>12790.000000</td>\n",
       "      <td>3.271000e+01</td>\n",
       "      <td>2.000000</td>\n",
       "      <td>444.000000</td>\n",
       "      <td>75.000000</td>\n",
       "      <td>7.885000</td>\n",
       "      <td>4.000000</td>\n",
       "      <td>3.449331e+07</td>\n",
       "      <td>2.000000</td>\n",
       "    </tr>\n",
       "    <tr>\n",
       "      <th>50%</th>\n",
       "      <td>28202.500000</td>\n",
       "      <td>3.271000e+01</td>\n",
       "      <td>2.000000</td>\n",
       "      <td>727.000000</td>\n",
       "      <td>98.000000</td>\n",
       "      <td>13.060000</td>\n",
       "      <td>10.000000</td>\n",
       "      <td>3.539202e+07</td>\n",
       "      <td>2.000000</td>\n",
       "    </tr>\n",
       "    <tr>\n",
       "      <th>75%</th>\n",
       "      <td>53782.750000</td>\n",
       "      <td>3.271000e+01</td>\n",
       "      <td>3.000000</td>\n",
       "      <td>1138.000000</td>\n",
       "      <td>145.500000</td>\n",
       "      <td>19.090000</td>\n",
       "      <td>23.000000</td>\n",
       "      <td>3.637102e+07</td>\n",
       "      <td>3.000000</td>\n",
       "    </tr>\n",
       "    <tr>\n",
       "      <th>max</th>\n",
       "      <td>79363.000000</td>\n",
       "      <td>3.271000e+01</td>\n",
       "      <td>5.000000</td>\n",
       "      <td>8307.000000</td>\n",
       "      <td>2754.000000</td>\n",
       "      <td>63.614998</td>\n",
       "      <td>600.000000</td>\n",
       "      <td>3.727920e+07</td>\n",
       "      <td>5.000000</td>\n",
       "    </tr>\n",
       "  </tbody>\n",
       "</table>\n",
       "</div>"
      ],
      "text/plain": [
       "          Unnamed: 0  kemendagri_kabupaten_kode          level  median_length  \\\n",
       "count  102322.000000               1.023220e+05  102322.000000  102322.000000   \n",
       "mean    33353.589345               3.271000e+01       2.433758     840.802794   \n",
       "std     23566.968434               2.131639e-14       1.002043     549.866997   \n",
       "min         0.000000               3.271000e+01       1.000000      13.000000   \n",
       "25%     12790.000000               3.271000e+01       2.000000     444.000000   \n",
       "50%     28202.500000               3.271000e+01       2.000000     727.000000   \n",
       "75%     53782.750000               3.271000e+01       3.000000    1138.000000   \n",
       "max     79363.000000               3.271000e+01       5.000000    8307.000000   \n",
       "\n",
       "        median_delay  median_speed_kmh  total_records            id  \\\n",
       "count  102322.000000     102322.000000  102322.000000  1.023220e+05   \n",
       "mean      131.969029         14.084945      17.575673  3.539966e+07   \n",
       "std       109.430777          7.975882      20.682176  1.092828e+06   \n",
       "min        -1.000000          0.000000       1.000000  3.346902e+07   \n",
       "25%        75.000000          7.885000       4.000000  3.449331e+07   \n",
       "50%        98.000000         13.060000      10.000000  3.539202e+07   \n",
       "75%       145.500000         19.090000      23.000000  3.637102e+07   \n",
       "max      2754.000000         63.614998     600.000000  3.727920e+07   \n",
       "\n",
       "        median_level  \n",
       "count  102322.000000  \n",
       "mean        2.433758  \n",
       "std         1.002043  \n",
       "min         1.000000  \n",
       "25%         2.000000  \n",
       "50%         2.000000  \n",
       "75%         3.000000  \n",
       "max         5.000000  "
      ]
     },
     "metadata": {},
     "output_type": "display_data"
    }
   ],
   "source": [
    "# analisis statistik\n",
    "df_jams.describe()"
   ]
  },
  {
   "cell_type": "code",
   "execution_count": 13,
   "metadata": {},
   "outputs": [
    {
     "name": "stdout",
     "output_type": "stream",
     "text": [
      "<class 'pandas.core.frame.DataFrame'>\n",
      "RangeIndex: 102322 entries, 0 to 102321\n",
      "Data columns (total 13 columns):\n",
      " #   Column                     Non-Null Count   Dtype  \n",
      "---  ------                     --------------   -----  \n",
      " 0   time                       102322 non-null  object \n",
      " 1   kemendagri_kabupaten_kode  102322 non-null  float64\n",
      " 2   kemendagri_kabupaten_nama  102322 non-null  object \n",
      " 3   street                     100529 non-null  object \n",
      " 4   level                      102322 non-null  int64  \n",
      " 5   median_length              102322 non-null  float64\n",
      " 6   median_delay               102322 non-null  float64\n",
      " 7   median_speed_kmh           102322 non-null  float64\n",
      " 8   total_records              102322 non-null  int64  \n",
      " 9   id                         102322 non-null  int64  \n",
      " 10  date                       102322 non-null  object \n",
      " 11  median_level               102322 non-null  float64\n",
      " 12  geometry                   102322 non-null  object \n",
      "dtypes: float64(5), int64(3), object(5)\n",
      "memory usage: 10.1+ MB\n"
     ]
    }
   ],
   "source": [
    "# analisis kolom\n",
    "print(df_jams.info())\n",
    "df_jams['median_level'].unique()"
   ]
  },
  {
   "cell_type": "code",
   "execution_count": 14,
   "metadata": {},
   "outputs": [
    {
     "data": {
      "text/html": [
       "<div>\n",
       "<style scoped>\n",
       "    .dataframe tbody tr th:only-of-type {\n",
       "        vertical-align: middle;\n",
       "    }\n",
       "\n",
       "    .dataframe tbody tr th {\n",
       "        vertical-align: top;\n",
       "    }\n",
       "\n",
       "    .dataframe thead th {\n",
       "        text-align: right;\n",
       "    }\n",
       "</style>\n",
       "<table border=\"1\" class=\"dataframe\">\n",
       "  <thead>\n",
       "    <tr style=\"text-align: right;\">\n",
       "      <th></th>\n",
       "      <th>street_name</th>\n",
       "      <th>total</th>\n",
       "    </tr>\n",
       "  </thead>\n",
       "  <tbody>\n",
       "    <tr>\n",
       "      <th>0</th>\n",
       "      <td>N9 Raden KH Abdullah bin Nuh</td>\n",
       "      <td>3658</td>\n",
       "    </tr>\n",
       "    <tr>\n",
       "      <th>0</th>\n",
       "      <td>N9 Jalan Raya Pajajaran</td>\n",
       "      <td>3625</td>\n",
       "    </tr>\n",
       "    <tr>\n",
       "      <th>0</th>\n",
       "      <td>N9 Jalan Raya Dramaga</td>\n",
       "      <td>3174</td>\n",
       "    </tr>\n",
       "    <tr>\n",
       "      <th>0</th>\n",
       "      <td>N9 Jalan Raya Tajur</td>\n",
       "      <td>3054</td>\n",
       "    </tr>\n",
       "    <tr>\n",
       "      <th>0</th>\n",
       "      <td>N8 Jalan Raya Bogor</td>\n",
       "      <td>2954</td>\n",
       "    </tr>\n",
       "  </tbody>\n",
       "</table>\n",
       "</div>"
      ],
      "text/plain": [
       "                    street_name total\n",
       "0  N9 Raden KH Abdullah bin Nuh  3658\n",
       "0       N9 Jalan Raya Pajajaran  3625\n",
       "0         N9 Jalan Raya Dramaga  3174\n",
       "0           N9 Jalan Raya Tajur  3054\n",
       "0           N8 Jalan Raya Bogor  2954"
      ]
     },
     "execution_count": 14,
     "metadata": {},
     "output_type": "execute_result"
    }
   ],
   "source": [
    "# sampling jalan dengan data terbanyak (3 sample jalan)\n",
    "df_jams_clean = df_jams[df_jams['street'].notna()]\n",
    "street_list = pd.DataFrame(columns=['street_name', 'total'])\n",
    "\n",
    "for street in (df_jams_clean['street'].unique()):\n",
    "  street_list = pd.concat([street_list, pd.DataFrame.from_records([{'street_name':street, 'total': len(df_jams_clean.loc[(df_jams['street'] == street)])}])])\n",
    "\n",
    "street_list.sort_values(by='total', ascending=False).head(5)"
   ]
  },
  {
   "cell_type": "code",
   "execution_count": 19,
   "metadata": {},
   "outputs": [
    {
     "name": "stdout",
     "output_type": "stream",
     "text": [
      "0 N9 Raden KH Abdullah bin Nuh\n",
      "1 N9 Jalan Raya Pajajaran\n",
      "2 N9 Jalan Raya Dramaga\n"
     ]
    }
   ],
   "source": [
    "for i, street in enumerate(['N9 Raden KH Abdullah bin Nuh', 'N9 Jalan Raya Pajajaran', 'N9 Jalan Raya Dramaga']):\n",
    "  print(i, street)\n",
    "  df_jams_sample = df_jams.loc[(df_jams['street'] == street)]\n",
    "  df_jams_sample = df_jams_sample.drop(['kemendagri_kabupaten_kode', 'kemendagri_kabupaten_nama',\n",
    "  'street', 'level', 'total_records', 'id', 'date', 'geometry'], axis=1)\n",
    "  df_jams_sample['time'] = pd.to_datetime(df_jams_sample['time'])\n",
    "  df_jams_agg = df_jams_sample.groupby(pd.Grouper(key=\"time\", freq='1H')).agg({\n",
    "    'median_length':np.median,\n",
    "    'median_delay':np.mean,\n",
    "    'median_speed_kmh':np.median,\n",
    "    'median_level':np.mean})\n",
    "  df_jams_agg['median_level'] = pd.to_numeric(df_jams_agg['median_level'].round(0))\n",
    "  df_jams_agg.to_csv(r'D:\\DSLS\\Mini project\\DS\\results\\jams\\sample_jams_{}.csv'.format(i))"
   ]
  },
  {
   "cell_type": "code",
   "execution_count": 17,
   "metadata": {},
   "outputs": [],
   "source": [
    "# visualisasi histogram\n",
    "for i, street in enumerate(['N9 Raden KH Abdullah bin Nuh', 'N9 Jalan Raya Pajajaran', 'N9 Jalan Raya Dramaga']):\n",
    "  print(i, street)\n",
    "  df_jams_sample = df_jams.loc[(df_jams['street'] == street)]\n",
    "  df_jams_sample = df_jams_sample.drop(['kemendagri_kabupaten_kode', 'kemendagri_kabupaten_nama',\n",
    "  'street', 'level', 'total_records', 'id', 'date', 'geometry'], axis=1)\n",
    "  df_jams_sample['time'] = pd.to_datetime(df_jams_sample['time'])\n",
    "  for col in df_jams_sample.columns:\n",
    "    print(street, col)\n",
    "    df_jams_sample[col].hist()\n",
    "    plt.axvline(df_jams_sample[col].mean(), color='red', linestyle='dashed', linewidth=1)\n",
    "    plt.axvline(df_jams_sample[col].median(), color='black', linestyle='dashed', linewidth=1)\n",
    "    plt.show()"
   ]
  },
  {
   "attachments": {},
   "cell_type": "markdown",
   "metadata": {},
   "source": [
    "## Alerts"
   ]
  },
  {
   "cell_type": "code",
   "execution_count": 3,
   "metadata": {},
   "outputs": [
    {
     "data": {
      "text/html": [
       "<div>\n",
       "<style scoped>\n",
       "    .dataframe tbody tr th:only-of-type {\n",
       "        vertical-align: middle;\n",
       "    }\n",
       "\n",
       "    .dataframe tbody tr th {\n",
       "        vertical-align: top;\n",
       "    }\n",
       "\n",
       "    .dataframe thead th {\n",
       "        text-align: right;\n",
       "    }\n",
       "</style>\n",
       "<table border=\"1\" class=\"dataframe\">\n",
       "  <thead>\n",
       "    <tr style=\"text-align: right;\">\n",
       "      <th></th>\n",
       "      <th>id</th>\n",
       "      <th>time</th>\n",
       "      <th>kemendagri_kabupaten_kode</th>\n",
       "      <th>kemendagri_kabupaten_nama</th>\n",
       "      <th>street</th>\n",
       "      <th>type</th>\n",
       "      <th>avg_location</th>\n",
       "      <th>total_records</th>\n",
       "      <th>date</th>\n",
       "    </tr>\n",
       "  </thead>\n",
       "  <tbody>\n",
       "    <tr>\n",
       "      <th>0</th>\n",
       "      <td>5930177</td>\n",
       "      <td>2022-07-06 00:00:00.000</td>\n",
       "      <td>32.71</td>\n",
       "      <td>KOTA BOGOR</td>\n",
       "      <td>KH Soleh Iskandar (Jalur Lambat)</td>\n",
       "      <td>ROAD_CLOSED</td>\n",
       "      <td>[106.80051600000002, -6.561997000000004]</td>\n",
       "      <td>61</td>\n",
       "      <td>2022-07-06</td>\n",
       "    </tr>\n",
       "    <tr>\n",
       "      <th>1</th>\n",
       "      <td>5930178</td>\n",
       "      <td>2022-07-06 00:00:00.000</td>\n",
       "      <td>32.71</td>\n",
       "      <td>KOTA BOGOR</td>\n",
       "      <td>NaN</td>\n",
       "      <td>WEATHERHAZARD</td>\n",
       "      <td>[106.80159300000008, -6.555780000000009]</td>\n",
       "      <td>61</td>\n",
       "      <td>2022-07-06</td>\n",
       "    </tr>\n",
       "    <tr>\n",
       "      <th>2</th>\n",
       "      <td>5930179</td>\n",
       "      <td>2022-07-06 01:00:00.000</td>\n",
       "      <td>32.71</td>\n",
       "      <td>KOTA BOGOR</td>\n",
       "      <td>KH Soleh Iskandar (Jalur Lambat)</td>\n",
       "      <td>ROAD_CLOSED</td>\n",
       "      <td>[106.80051600000002, -6.561997000000004]</td>\n",
       "      <td>60</td>\n",
       "      <td>2022-07-06</td>\n",
       "    </tr>\n",
       "  </tbody>\n",
       "</table>\n",
       "</div>"
      ],
      "text/plain": [
       "        id                     time  kemendagri_kabupaten_kode  \\\n",
       "0  5930177  2022-07-06 00:00:00.000                      32.71   \n",
       "1  5930178  2022-07-06 00:00:00.000                      32.71   \n",
       "2  5930179  2022-07-06 01:00:00.000                      32.71   \n",
       "\n",
       "  kemendagri_kabupaten_nama                            street           type  \\\n",
       "0                KOTA BOGOR  KH Soleh Iskandar (Jalur Lambat)    ROAD_CLOSED   \n",
       "1                KOTA BOGOR                               NaN  WEATHERHAZARD   \n",
       "2                KOTA BOGOR  KH Soleh Iskandar (Jalur Lambat)    ROAD_CLOSED   \n",
       "\n",
       "                               avg_location  total_records        date  \n",
       "0  [106.80051600000002, -6.561997000000004]             61  2022-07-06  \n",
       "1  [106.80159300000008, -6.555780000000009]             61  2022-07-06  \n",
       "2  [106.80051600000002, -6.561997000000004]             60  2022-07-06  "
      ]
     },
     "execution_count": 3,
     "metadata": {},
     "output_type": "execute_result"
    }
   ],
   "source": [
    "df_alerts = pd.read_csv(alerts_path)\n",
    "df_alerts.head(3)"
   ]
  },
  {
   "cell_type": "code",
   "execution_count": 22,
   "metadata": {},
   "outputs": [
    {
     "data": {
      "application/vnd.plotly.v1+json": {
       "config": {
        "plotlyServerURL": "https://plot.ly"
       },
       "data": [
        {
         "alignmentgroup": "True",
         "hovertemplate": "variable=0<br>index=%{x}<br>value=%{y}<extra></extra>",
         "legendgroup": "0",
         "marker": {
          "color": "#636efa",
          "pattern": {
           "shape": ""
          }
         },
         "name": "0",
         "offsetgroup": "0",
         "orientation": "v",
         "showlegend": true,
         "textposition": "auto",
         "type": "bar",
         "x": [
          "id",
          "time",
          "kemendagri_kabupaten_kode",
          "kemendagri_kabupaten_nama",
          "street",
          "type",
          "avg_location",
          "total_records",
          "date"
         ],
         "xaxis": "x",
         "y": [
          0,
          0,
          0,
          0,
          935,
          0,
          0,
          0,
          0
         ],
         "yaxis": "y"
        }
       ],
       "layout": {
        "barmode": "relative",
        "legend": {
         "title": {
          "text": "variable"
         },
         "tracegroupgap": 0
        },
        "margin": {
         "t": 60
        },
        "template": {
         "data": {
          "bar": [
           {
            "error_x": {
             "color": "#2a3f5f"
            },
            "error_y": {
             "color": "#2a3f5f"
            },
            "marker": {
             "line": {
              "color": "#E5ECF6",
              "width": 0.5
             },
             "pattern": {
              "fillmode": "overlay",
              "size": 10,
              "solidity": 0.2
             }
            },
            "type": "bar"
           }
          ],
          "barpolar": [
           {
            "marker": {
             "line": {
              "color": "#E5ECF6",
              "width": 0.5
             },
             "pattern": {
              "fillmode": "overlay",
              "size": 10,
              "solidity": 0.2
             }
            },
            "type": "barpolar"
           }
          ],
          "carpet": [
           {
            "aaxis": {
             "endlinecolor": "#2a3f5f",
             "gridcolor": "white",
             "linecolor": "white",
             "minorgridcolor": "white",
             "startlinecolor": "#2a3f5f"
            },
            "baxis": {
             "endlinecolor": "#2a3f5f",
             "gridcolor": "white",
             "linecolor": "white",
             "minorgridcolor": "white",
             "startlinecolor": "#2a3f5f"
            },
            "type": "carpet"
           }
          ],
          "choropleth": [
           {
            "colorbar": {
             "outlinewidth": 0,
             "ticks": ""
            },
            "type": "choropleth"
           }
          ],
          "contour": [
           {
            "colorbar": {
             "outlinewidth": 0,
             "ticks": ""
            },
            "colorscale": [
             [
              0,
              "#0d0887"
             ],
             [
              0.1111111111111111,
              "#46039f"
             ],
             [
              0.2222222222222222,
              "#7201a8"
             ],
             [
              0.3333333333333333,
              "#9c179e"
             ],
             [
              0.4444444444444444,
              "#bd3786"
             ],
             [
              0.5555555555555556,
              "#d8576b"
             ],
             [
              0.6666666666666666,
              "#ed7953"
             ],
             [
              0.7777777777777778,
              "#fb9f3a"
             ],
             [
              0.8888888888888888,
              "#fdca26"
             ],
             [
              1,
              "#f0f921"
             ]
            ],
            "type": "contour"
           }
          ],
          "contourcarpet": [
           {
            "colorbar": {
             "outlinewidth": 0,
             "ticks": ""
            },
            "type": "contourcarpet"
           }
          ],
          "heatmap": [
           {
            "colorbar": {
             "outlinewidth": 0,
             "ticks": ""
            },
            "colorscale": [
             [
              0,
              "#0d0887"
             ],
             [
              0.1111111111111111,
              "#46039f"
             ],
             [
              0.2222222222222222,
              "#7201a8"
             ],
             [
              0.3333333333333333,
              "#9c179e"
             ],
             [
              0.4444444444444444,
              "#bd3786"
             ],
             [
              0.5555555555555556,
              "#d8576b"
             ],
             [
              0.6666666666666666,
              "#ed7953"
             ],
             [
              0.7777777777777778,
              "#fb9f3a"
             ],
             [
              0.8888888888888888,
              "#fdca26"
             ],
             [
              1,
              "#f0f921"
             ]
            ],
            "type": "heatmap"
           }
          ],
          "heatmapgl": [
           {
            "colorbar": {
             "outlinewidth": 0,
             "ticks": ""
            },
            "colorscale": [
             [
              0,
              "#0d0887"
             ],
             [
              0.1111111111111111,
              "#46039f"
             ],
             [
              0.2222222222222222,
              "#7201a8"
             ],
             [
              0.3333333333333333,
              "#9c179e"
             ],
             [
              0.4444444444444444,
              "#bd3786"
             ],
             [
              0.5555555555555556,
              "#d8576b"
             ],
             [
              0.6666666666666666,
              "#ed7953"
             ],
             [
              0.7777777777777778,
              "#fb9f3a"
             ],
             [
              0.8888888888888888,
              "#fdca26"
             ],
             [
              1,
              "#f0f921"
             ]
            ],
            "type": "heatmapgl"
           }
          ],
          "histogram": [
           {
            "marker": {
             "pattern": {
              "fillmode": "overlay",
              "size": 10,
              "solidity": 0.2
             }
            },
            "type": "histogram"
           }
          ],
          "histogram2d": [
           {
            "colorbar": {
             "outlinewidth": 0,
             "ticks": ""
            },
            "colorscale": [
             [
              0,
              "#0d0887"
             ],
             [
              0.1111111111111111,
              "#46039f"
             ],
             [
              0.2222222222222222,
              "#7201a8"
             ],
             [
              0.3333333333333333,
              "#9c179e"
             ],
             [
              0.4444444444444444,
              "#bd3786"
             ],
             [
              0.5555555555555556,
              "#d8576b"
             ],
             [
              0.6666666666666666,
              "#ed7953"
             ],
             [
              0.7777777777777778,
              "#fb9f3a"
             ],
             [
              0.8888888888888888,
              "#fdca26"
             ],
             [
              1,
              "#f0f921"
             ]
            ],
            "type": "histogram2d"
           }
          ],
          "histogram2dcontour": [
           {
            "colorbar": {
             "outlinewidth": 0,
             "ticks": ""
            },
            "colorscale": [
             [
              0,
              "#0d0887"
             ],
             [
              0.1111111111111111,
              "#46039f"
             ],
             [
              0.2222222222222222,
              "#7201a8"
             ],
             [
              0.3333333333333333,
              "#9c179e"
             ],
             [
              0.4444444444444444,
              "#bd3786"
             ],
             [
              0.5555555555555556,
              "#d8576b"
             ],
             [
              0.6666666666666666,
              "#ed7953"
             ],
             [
              0.7777777777777778,
              "#fb9f3a"
             ],
             [
              0.8888888888888888,
              "#fdca26"
             ],
             [
              1,
              "#f0f921"
             ]
            ],
            "type": "histogram2dcontour"
           }
          ],
          "mesh3d": [
           {
            "colorbar": {
             "outlinewidth": 0,
             "ticks": ""
            },
            "type": "mesh3d"
           }
          ],
          "parcoords": [
           {
            "line": {
             "colorbar": {
              "outlinewidth": 0,
              "ticks": ""
             }
            },
            "type": "parcoords"
           }
          ],
          "pie": [
           {
            "automargin": true,
            "type": "pie"
           }
          ],
          "scatter": [
           {
            "fillpattern": {
             "fillmode": "overlay",
             "size": 10,
             "solidity": 0.2
            },
            "type": "scatter"
           }
          ],
          "scatter3d": [
           {
            "line": {
             "colorbar": {
              "outlinewidth": 0,
              "ticks": ""
             }
            },
            "marker": {
             "colorbar": {
              "outlinewidth": 0,
              "ticks": ""
             }
            },
            "type": "scatter3d"
           }
          ],
          "scattercarpet": [
           {
            "marker": {
             "colorbar": {
              "outlinewidth": 0,
              "ticks": ""
             }
            },
            "type": "scattercarpet"
           }
          ],
          "scattergeo": [
           {
            "marker": {
             "colorbar": {
              "outlinewidth": 0,
              "ticks": ""
             }
            },
            "type": "scattergeo"
           }
          ],
          "scattergl": [
           {
            "marker": {
             "colorbar": {
              "outlinewidth": 0,
              "ticks": ""
             }
            },
            "type": "scattergl"
           }
          ],
          "scattermapbox": [
           {
            "marker": {
             "colorbar": {
              "outlinewidth": 0,
              "ticks": ""
             }
            },
            "type": "scattermapbox"
           }
          ],
          "scatterpolar": [
           {
            "marker": {
             "colorbar": {
              "outlinewidth": 0,
              "ticks": ""
             }
            },
            "type": "scatterpolar"
           }
          ],
          "scatterpolargl": [
           {
            "marker": {
             "colorbar": {
              "outlinewidth": 0,
              "ticks": ""
             }
            },
            "type": "scatterpolargl"
           }
          ],
          "scatterternary": [
           {
            "marker": {
             "colorbar": {
              "outlinewidth": 0,
              "ticks": ""
             }
            },
            "type": "scatterternary"
           }
          ],
          "surface": [
           {
            "colorbar": {
             "outlinewidth": 0,
             "ticks": ""
            },
            "colorscale": [
             [
              0,
              "#0d0887"
             ],
             [
              0.1111111111111111,
              "#46039f"
             ],
             [
              0.2222222222222222,
              "#7201a8"
             ],
             [
              0.3333333333333333,
              "#9c179e"
             ],
             [
              0.4444444444444444,
              "#bd3786"
             ],
             [
              0.5555555555555556,
              "#d8576b"
             ],
             [
              0.6666666666666666,
              "#ed7953"
             ],
             [
              0.7777777777777778,
              "#fb9f3a"
             ],
             [
              0.8888888888888888,
              "#fdca26"
             ],
             [
              1,
              "#f0f921"
             ]
            ],
            "type": "surface"
           }
          ],
          "table": [
           {
            "cells": {
             "fill": {
              "color": "#EBF0F8"
             },
             "line": {
              "color": "white"
             }
            },
            "header": {
             "fill": {
              "color": "#C8D4E3"
             },
             "line": {
              "color": "white"
             }
            },
            "type": "table"
           }
          ]
         },
         "layout": {
          "annotationdefaults": {
           "arrowcolor": "#2a3f5f",
           "arrowhead": 0,
           "arrowwidth": 1
          },
          "autotypenumbers": "strict",
          "coloraxis": {
           "colorbar": {
            "outlinewidth": 0,
            "ticks": ""
           }
          },
          "colorscale": {
           "diverging": [
            [
             0,
             "#8e0152"
            ],
            [
             0.1,
             "#c51b7d"
            ],
            [
             0.2,
             "#de77ae"
            ],
            [
             0.3,
             "#f1b6da"
            ],
            [
             0.4,
             "#fde0ef"
            ],
            [
             0.5,
             "#f7f7f7"
            ],
            [
             0.6,
             "#e6f5d0"
            ],
            [
             0.7,
             "#b8e186"
            ],
            [
             0.8,
             "#7fbc41"
            ],
            [
             0.9,
             "#4d9221"
            ],
            [
             1,
             "#276419"
            ]
           ],
           "sequential": [
            [
             0,
             "#0d0887"
            ],
            [
             0.1111111111111111,
             "#46039f"
            ],
            [
             0.2222222222222222,
             "#7201a8"
            ],
            [
             0.3333333333333333,
             "#9c179e"
            ],
            [
             0.4444444444444444,
             "#bd3786"
            ],
            [
             0.5555555555555556,
             "#d8576b"
            ],
            [
             0.6666666666666666,
             "#ed7953"
            ],
            [
             0.7777777777777778,
             "#fb9f3a"
            ],
            [
             0.8888888888888888,
             "#fdca26"
            ],
            [
             1,
             "#f0f921"
            ]
           ],
           "sequentialminus": [
            [
             0,
             "#0d0887"
            ],
            [
             0.1111111111111111,
             "#46039f"
            ],
            [
             0.2222222222222222,
             "#7201a8"
            ],
            [
             0.3333333333333333,
             "#9c179e"
            ],
            [
             0.4444444444444444,
             "#bd3786"
            ],
            [
             0.5555555555555556,
             "#d8576b"
            ],
            [
             0.6666666666666666,
             "#ed7953"
            ],
            [
             0.7777777777777778,
             "#fb9f3a"
            ],
            [
             0.8888888888888888,
             "#fdca26"
            ],
            [
             1,
             "#f0f921"
            ]
           ]
          },
          "colorway": [
           "#636efa",
           "#EF553B",
           "#00cc96",
           "#ab63fa",
           "#FFA15A",
           "#19d3f3",
           "#FF6692",
           "#B6E880",
           "#FF97FF",
           "#FECB52"
          ],
          "font": {
           "color": "#2a3f5f"
          },
          "geo": {
           "bgcolor": "white",
           "lakecolor": "white",
           "landcolor": "#E5ECF6",
           "showlakes": true,
           "showland": true,
           "subunitcolor": "white"
          },
          "hoverlabel": {
           "align": "left"
          },
          "hovermode": "closest",
          "mapbox": {
           "style": "light"
          },
          "paper_bgcolor": "white",
          "plot_bgcolor": "#E5ECF6",
          "polar": {
           "angularaxis": {
            "gridcolor": "white",
            "linecolor": "white",
            "ticks": ""
           },
           "bgcolor": "#E5ECF6",
           "radialaxis": {
            "gridcolor": "white",
            "linecolor": "white",
            "ticks": ""
           }
          },
          "scene": {
           "xaxis": {
            "backgroundcolor": "#E5ECF6",
            "gridcolor": "white",
            "gridwidth": 2,
            "linecolor": "white",
            "showbackground": true,
            "ticks": "",
            "zerolinecolor": "white"
           },
           "yaxis": {
            "backgroundcolor": "#E5ECF6",
            "gridcolor": "white",
            "gridwidth": 2,
            "linecolor": "white",
            "showbackground": true,
            "ticks": "",
            "zerolinecolor": "white"
           },
           "zaxis": {
            "backgroundcolor": "#E5ECF6",
            "gridcolor": "white",
            "gridwidth": 2,
            "linecolor": "white",
            "showbackground": true,
            "ticks": "",
            "zerolinecolor": "white"
           }
          },
          "shapedefaults": {
           "line": {
            "color": "#2a3f5f"
           }
          },
          "ternary": {
           "aaxis": {
            "gridcolor": "white",
            "linecolor": "white",
            "ticks": ""
           },
           "baxis": {
            "gridcolor": "white",
            "linecolor": "white",
            "ticks": ""
           },
           "bgcolor": "#E5ECF6",
           "caxis": {
            "gridcolor": "white",
            "linecolor": "white",
            "ticks": ""
           }
          },
          "title": {
           "x": 0.05
          },
          "xaxis": {
           "automargin": true,
           "gridcolor": "white",
           "linecolor": "white",
           "ticks": "",
           "title": {
            "standoff": 15
           },
           "zerolinecolor": "white",
           "zerolinewidth": 2
          },
          "yaxis": {
           "automargin": true,
           "gridcolor": "white",
           "linecolor": "white",
           "ticks": "",
           "title": {
            "standoff": 15
           },
           "zerolinecolor": "white",
           "zerolinewidth": 2
          }
         }
        },
        "xaxis": {
         "anchor": "y",
         "domain": [
          0,
          1
         ],
         "title": {
          "text": "index"
         }
        },
        "yaxis": {
         "anchor": "x",
         "domain": [
          0,
          1
         ],
         "title": {
          "text": "value"
         }
        }
       }
      }
     },
     "metadata": {},
     "output_type": "display_data"
    }
   ],
   "source": [
    "# analisis null value\n",
    "df_alerts.isna().sum().plot(kind='bar')"
   ]
  },
  {
   "cell_type": "code",
   "execution_count": 23,
   "metadata": {},
   "outputs": [
    {
     "data": {
      "text/html": [
       "<div>\n",
       "<style scoped>\n",
       "    .dataframe tbody tr th:only-of-type {\n",
       "        vertical-align: middle;\n",
       "    }\n",
       "\n",
       "    .dataframe tbody tr th {\n",
       "        vertical-align: top;\n",
       "    }\n",
       "\n",
       "    .dataframe thead th {\n",
       "        text-align: right;\n",
       "    }\n",
       "</style>\n",
       "<table border=\"1\" class=\"dataframe\">\n",
       "  <thead>\n",
       "    <tr style=\"text-align: right;\">\n",
       "      <th></th>\n",
       "      <th>id</th>\n",
       "      <th>kemendagri_kabupaten_kode</th>\n",
       "      <th>total_records</th>\n",
       "    </tr>\n",
       "  </thead>\n",
       "  <tbody>\n",
       "    <tr>\n",
       "      <th>count</th>\n",
       "      <td>9.762000e+03</td>\n",
       "      <td>9.762000e+03</td>\n",
       "      <td>9762.000000</td>\n",
       "    </tr>\n",
       "    <tr>\n",
       "      <th>mean</th>\n",
       "      <td>6.077419e+06</td>\n",
       "      <td>3.271000e+01</td>\n",
       "      <td>40.557160</td>\n",
       "    </tr>\n",
       "    <tr>\n",
       "      <th>std</th>\n",
       "      <td>8.243814e+04</td>\n",
       "      <td>1.421158e-14</td>\n",
       "      <td>33.080946</td>\n",
       "    </tr>\n",
       "    <tr>\n",
       "      <th>min</th>\n",
       "      <td>5.930177e+06</td>\n",
       "      <td>3.271000e+01</td>\n",
       "      <td>1.000000</td>\n",
       "    </tr>\n",
       "    <tr>\n",
       "      <th>25%</th>\n",
       "      <td>6.012826e+06</td>\n",
       "      <td>3.271000e+01</td>\n",
       "      <td>17.000000</td>\n",
       "    </tr>\n",
       "    <tr>\n",
       "      <th>50%</th>\n",
       "      <td>6.079400e+06</td>\n",
       "      <td>3.271000e+01</td>\n",
       "      <td>31.000000</td>\n",
       "    </tr>\n",
       "    <tr>\n",
       "      <th>75%</th>\n",
       "      <td>6.147232e+06</td>\n",
       "      <td>3.271000e+01</td>\n",
       "      <td>60.000000</td>\n",
       "    </tr>\n",
       "    <tr>\n",
       "      <th>max</th>\n",
       "      <td>6.220241e+06</td>\n",
       "      <td>3.271000e+01</td>\n",
       "      <td>727.000000</td>\n",
       "    </tr>\n",
       "  </tbody>\n",
       "</table>\n",
       "</div>"
      ],
      "text/plain": [
       "                 id  kemendagri_kabupaten_kode  total_records\n",
       "count  9.762000e+03               9.762000e+03    9762.000000\n",
       "mean   6.077419e+06               3.271000e+01      40.557160\n",
       "std    8.243814e+04               1.421158e-14      33.080946\n",
       "min    5.930177e+06               3.271000e+01       1.000000\n",
       "25%    6.012826e+06               3.271000e+01      17.000000\n",
       "50%    6.079400e+06               3.271000e+01      31.000000\n",
       "75%    6.147232e+06               3.271000e+01      60.000000\n",
       "max    6.220241e+06               3.271000e+01     727.000000"
      ]
     },
     "execution_count": 23,
     "metadata": {},
     "output_type": "execute_result"
    }
   ],
   "source": [
    "# analisis statistik\n",
    "df_alerts.describe()"
   ]
  },
  {
   "cell_type": "code",
   "execution_count": 25,
   "metadata": {},
   "outputs": [
    {
     "name": "stdout",
     "output_type": "stream",
     "text": [
      "<class 'pandas.core.frame.DataFrame'>\n",
      "RangeIndex: 9762 entries, 0 to 9761\n",
      "Data columns (total 9 columns):\n",
      " #   Column                     Non-Null Count  Dtype  \n",
      "---  ------                     --------------  -----  \n",
      " 0   id                         9762 non-null   int64  \n",
      " 1   time                       9762 non-null   object \n",
      " 2   kemendagri_kabupaten_kode  9762 non-null   float64\n",
      " 3   kemendagri_kabupaten_nama  9762 non-null   object \n",
      " 4   street                     8827 non-null   object \n",
      " 5   type                       9762 non-null   object \n",
      " 6   avg_location               9762 non-null   object \n",
      " 7   total_records              9762 non-null   int64  \n",
      " 8   date                       9762 non-null   object \n",
      "dtypes: float64(1), int64(2), object(6)\n",
      "memory usage: 686.5+ KB\n",
      "None\n"
     ]
    },
    {
     "data": {
      "text/plain": [
       "array(['ROAD_CLOSED', 'WEATHERHAZARD', 'JAM', 'ACCIDENT'], dtype=object)"
      ]
     },
     "execution_count": 25,
     "metadata": {},
     "output_type": "execute_result"
    }
   ],
   "source": [
    "# analisis kolom\n",
    "print(df_alerts.info())\n",
    "df_alerts['type'].unique()"
   ]
  },
  {
   "cell_type": "code",
   "execution_count": 32,
   "metadata": {},
   "outputs": [
    {
     "name": "stdout",
     "output_type": "stream",
     "text": [
      "0 N9 Raden KH Abdullah bin Nuh\n",
      "1 N9 Jalan Raya Pajajaran\n",
      "2 N9 Jalan Raya Dramaga\n"
     ]
    }
   ],
   "source": [
    "# Simpan 3 sample jalan : N9 Raden KH Abdullah bin Nuh, N9 Jalan Raya Pajajaran, N9 Jalan Raya Dramaga\n",
    "for i, street in enumerate(['N9 Raden KH Abdullah bin Nuh', 'N9 Jalan Raya Pajajaran', 'N9 Jalan Raya Dramaga']):\n",
    "  print(i, street)\n",
    "  df_alerts_sample = df_alerts.loc[(df_alerts['street'] == street)]\n",
    "  df_alerts_sample = df_alerts_sample.drop(['id', 'kemendagri_kabupaten_kode', 'kemendagri_kabupaten_nama', 'street'\n",
    "  , 'avg_location', 'total_records', 'date'], axis=1)\n",
    "  df_alerts_sample['time'] = pd.to_datetime(df_alerts_sample['time'])\n",
    "  # df_jams_agg = df_alerts_sample.groupby(pd.Grouper(key=\"time\", freq='1H')).mean()\n",
    "  df_alerts_sample.to_csv(r'D:\\DSLS\\Mini project\\DS\\clean_code\\data\\transformed\\alerts\\sample_alerts_{}.csv'.format(i), index=False)"
   ]
  },
  {
   "attachments": {},
   "cell_type": "markdown",
   "metadata": {},
   "source": [
    "## irregularities"
   ]
  },
  {
   "cell_type": "code",
   "execution_count": 3,
   "metadata": {},
   "outputs": [
    {
     "data": {
      "text/html": [
       "<div>\n",
       "<style scoped>\n",
       "    .dataframe tbody tr th:only-of-type {\n",
       "        vertical-align: middle;\n",
       "    }\n",
       "\n",
       "    .dataframe tbody tr th {\n",
       "        vertical-align: top;\n",
       "    }\n",
       "\n",
       "    .dataframe thead th {\n",
       "        text-align: right;\n",
       "    }\n",
       "</style>\n",
       "<table border=\"1\" class=\"dataframe\">\n",
       "  <thead>\n",
       "    <tr style=\"text-align: right;\">\n",
       "      <th></th>\n",
       "      <th>time</th>\n",
       "      <th>kemendagri_kabupaten_kode</th>\n",
       "      <th>kemendagri_kabupaten_nama</th>\n",
       "      <th>street</th>\n",
       "      <th>jam_level</th>\n",
       "      <th>median_length</th>\n",
       "      <th>median_delay_seconds</th>\n",
       "      <th>median_regular_speed</th>\n",
       "      <th>total_records</th>\n",
       "      <th>cause_type</th>\n",
       "      <th>median_seconds</th>\n",
       "      <th>median_speed</th>\n",
       "      <th>date</th>\n",
       "      <th>median_jam_level</th>\n",
       "      <th>id</th>\n",
       "      <th>geometry</th>\n",
       "    </tr>\n",
       "  </thead>\n",
       "  <tbody>\n",
       "    <tr>\n",
       "      <th>0</th>\n",
       "      <td>2022-07-06 09:00:00.000</td>\n",
       "      <td>32.71</td>\n",
       "      <td>KOTA BOGOR</td>\n",
       "      <td>N9 Jalan Raya Dramaga</td>\n",
       "      <td>4</td>\n",
       "      <td>1878.0</td>\n",
       "      <td>689.0</td>\n",
       "      <td>13.775</td>\n",
       "      <td>18</td>\n",
       "      <td>NaN</td>\n",
       "      <td>856.5</td>\n",
       "      <td>7.340</td>\n",
       "      <td>2022-07-06</td>\n",
       "      <td>4.0</td>\n",
       "      <td>1492793</td>\n",
       "      <td>MULTILINESTRING ((106.738284 -6.568848, 106.73...</td>\n",
       "    </tr>\n",
       "    <tr>\n",
       "      <th>1</th>\n",
       "      <td>2022-07-06 09:00:00.000</td>\n",
       "      <td>32.71</td>\n",
       "      <td>KOTA BOGOR</td>\n",
       "      <td>N9 Jalan Raya Dramaga</td>\n",
       "      <td>3</td>\n",
       "      <td>1226.0</td>\n",
       "      <td>339.5</td>\n",
       "      <td>14.400</td>\n",
       "      <td>6</td>\n",
       "      <td>NaN</td>\n",
       "      <td>447.0</td>\n",
       "      <td>9.995</td>\n",
       "      <td>2022-07-06</td>\n",
       "      <td>3.0</td>\n",
       "      <td>1492792</td>\n",
       "      <td>MULTILINESTRING ((106.73546 -6.565547, 106.735...</td>\n",
       "    </tr>\n",
       "    <tr>\n",
       "      <th>2</th>\n",
       "      <td>2022-07-06 10:00:00.000</td>\n",
       "      <td>32.71</td>\n",
       "      <td>KOTA BOGOR</td>\n",
       "      <td>Kapten Yusuf</td>\n",
       "      <td>3</td>\n",
       "      <td>1399.0</td>\n",
       "      <td>517.0</td>\n",
       "      <td>18.150</td>\n",
       "      <td>2</td>\n",
       "      <td>NaN</td>\n",
       "      <td>707.0</td>\n",
       "      <td>7.110</td>\n",
       "      <td>2022-07-06</td>\n",
       "      <td>3.0</td>\n",
       "      <td>1492794</td>\n",
       "      <td>LINESTRING (106.785538 -6.61574, 106.785797 -6...</td>\n",
       "    </tr>\n",
       "  </tbody>\n",
       "</table>\n",
       "</div>"
      ],
      "text/plain": [
       "                      time  kemendagri_kabupaten_kode  \\\n",
       "0  2022-07-06 09:00:00.000                      32.71   \n",
       "1  2022-07-06 09:00:00.000                      32.71   \n",
       "2  2022-07-06 10:00:00.000                      32.71   \n",
       "\n",
       "  kemendagri_kabupaten_nama                 street  jam_level  median_length  \\\n",
       "0                KOTA BOGOR  N9 Jalan Raya Dramaga          4         1878.0   \n",
       "1                KOTA BOGOR  N9 Jalan Raya Dramaga          3         1226.0   \n",
       "2                KOTA BOGOR           Kapten Yusuf          3         1399.0   \n",
       "\n",
       "   median_delay_seconds  median_regular_speed  total_records  cause_type  \\\n",
       "0                 689.0                13.775             18         NaN   \n",
       "1                 339.5                14.400              6         NaN   \n",
       "2                 517.0                18.150              2         NaN   \n",
       "\n",
       "   median_seconds  median_speed        date  median_jam_level       id  \\\n",
       "0           856.5         7.340  2022-07-06               4.0  1492793   \n",
       "1           447.0         9.995  2022-07-06               3.0  1492792   \n",
       "2           707.0         7.110  2022-07-06               3.0  1492794   \n",
       "\n",
       "                                            geometry  \n",
       "0  MULTILINESTRING ((106.738284 -6.568848, 106.73...  \n",
       "1  MULTILINESTRING ((106.73546 -6.565547, 106.735...  \n",
       "2  LINESTRING (106.785538 -6.61574, 106.785797 -6...  "
      ]
     },
     "execution_count": 3,
     "metadata": {},
     "output_type": "execute_result"
    }
   ],
   "source": [
    "df_irregularities = pd.read_csv(median_irregularities_path)\n",
    "df_irregularities.head(3)"
   ]
  },
  {
   "cell_type": "code",
   "execution_count": 4,
   "metadata": {},
   "outputs": [
    {
     "data": {
      "application/vnd.plotly.v1+json": {
       "config": {
        "plotlyServerURL": "https://plot.ly"
       },
       "data": [
        {
         "alignmentgroup": "True",
         "hovertemplate": "variable=0<br>index=%{x}<br>value=%{y}<extra></extra>",
         "legendgroup": "0",
         "marker": {
          "color": "#636efa",
          "pattern": {
           "shape": ""
          }
         },
         "name": "0",
         "offsetgroup": "0",
         "orientation": "v",
         "showlegend": true,
         "textposition": "auto",
         "type": "bar",
         "x": [
          "time",
          "kemendagri_kabupaten_kode",
          "kemendagri_kabupaten_nama",
          "street",
          "jam_level",
          "median_length",
          "median_delay_seconds",
          "median_regular_speed",
          "total_records",
          "cause_type",
          "median_seconds",
          "median_speed",
          "date",
          "median_jam_level",
          "id",
          "geometry"
         ],
         "xaxis": "x",
         "y": [
          0,
          0,
          0,
          0,
          0,
          0,
          0,
          0,
          0,
          4051,
          0,
          0,
          0,
          0,
          0,
          0
         ],
         "yaxis": "y"
        }
       ],
       "layout": {
        "barmode": "relative",
        "legend": {
         "title": {
          "text": "variable"
         },
         "tracegroupgap": 0
        },
        "margin": {
         "t": 60
        },
        "template": {
         "data": {
          "bar": [
           {
            "error_x": {
             "color": "#2a3f5f"
            },
            "error_y": {
             "color": "#2a3f5f"
            },
            "marker": {
             "line": {
              "color": "#E5ECF6",
              "width": 0.5
             },
             "pattern": {
              "fillmode": "overlay",
              "size": 10,
              "solidity": 0.2
             }
            },
            "type": "bar"
           }
          ],
          "barpolar": [
           {
            "marker": {
             "line": {
              "color": "#E5ECF6",
              "width": 0.5
             },
             "pattern": {
              "fillmode": "overlay",
              "size": 10,
              "solidity": 0.2
             }
            },
            "type": "barpolar"
           }
          ],
          "carpet": [
           {
            "aaxis": {
             "endlinecolor": "#2a3f5f",
             "gridcolor": "white",
             "linecolor": "white",
             "minorgridcolor": "white",
             "startlinecolor": "#2a3f5f"
            },
            "baxis": {
             "endlinecolor": "#2a3f5f",
             "gridcolor": "white",
             "linecolor": "white",
             "minorgridcolor": "white",
             "startlinecolor": "#2a3f5f"
            },
            "type": "carpet"
           }
          ],
          "choropleth": [
           {
            "colorbar": {
             "outlinewidth": 0,
             "ticks": ""
            },
            "type": "choropleth"
           }
          ],
          "contour": [
           {
            "colorbar": {
             "outlinewidth": 0,
             "ticks": ""
            },
            "colorscale": [
             [
              0,
              "#0d0887"
             ],
             [
              0.1111111111111111,
              "#46039f"
             ],
             [
              0.2222222222222222,
              "#7201a8"
             ],
             [
              0.3333333333333333,
              "#9c179e"
             ],
             [
              0.4444444444444444,
              "#bd3786"
             ],
             [
              0.5555555555555556,
              "#d8576b"
             ],
             [
              0.6666666666666666,
              "#ed7953"
             ],
             [
              0.7777777777777778,
              "#fb9f3a"
             ],
             [
              0.8888888888888888,
              "#fdca26"
             ],
             [
              1,
              "#f0f921"
             ]
            ],
            "type": "contour"
           }
          ],
          "contourcarpet": [
           {
            "colorbar": {
             "outlinewidth": 0,
             "ticks": ""
            },
            "type": "contourcarpet"
           }
          ],
          "heatmap": [
           {
            "colorbar": {
             "outlinewidth": 0,
             "ticks": ""
            },
            "colorscale": [
             [
              0,
              "#0d0887"
             ],
             [
              0.1111111111111111,
              "#46039f"
             ],
             [
              0.2222222222222222,
              "#7201a8"
             ],
             [
              0.3333333333333333,
              "#9c179e"
             ],
             [
              0.4444444444444444,
              "#bd3786"
             ],
             [
              0.5555555555555556,
              "#d8576b"
             ],
             [
              0.6666666666666666,
              "#ed7953"
             ],
             [
              0.7777777777777778,
              "#fb9f3a"
             ],
             [
              0.8888888888888888,
              "#fdca26"
             ],
             [
              1,
              "#f0f921"
             ]
            ],
            "type": "heatmap"
           }
          ],
          "heatmapgl": [
           {
            "colorbar": {
             "outlinewidth": 0,
             "ticks": ""
            },
            "colorscale": [
             [
              0,
              "#0d0887"
             ],
             [
              0.1111111111111111,
              "#46039f"
             ],
             [
              0.2222222222222222,
              "#7201a8"
             ],
             [
              0.3333333333333333,
              "#9c179e"
             ],
             [
              0.4444444444444444,
              "#bd3786"
             ],
             [
              0.5555555555555556,
              "#d8576b"
             ],
             [
              0.6666666666666666,
              "#ed7953"
             ],
             [
              0.7777777777777778,
              "#fb9f3a"
             ],
             [
              0.8888888888888888,
              "#fdca26"
             ],
             [
              1,
              "#f0f921"
             ]
            ],
            "type": "heatmapgl"
           }
          ],
          "histogram": [
           {
            "marker": {
             "pattern": {
              "fillmode": "overlay",
              "size": 10,
              "solidity": 0.2
             }
            },
            "type": "histogram"
           }
          ],
          "histogram2d": [
           {
            "colorbar": {
             "outlinewidth": 0,
             "ticks": ""
            },
            "colorscale": [
             [
              0,
              "#0d0887"
             ],
             [
              0.1111111111111111,
              "#46039f"
             ],
             [
              0.2222222222222222,
              "#7201a8"
             ],
             [
              0.3333333333333333,
              "#9c179e"
             ],
             [
              0.4444444444444444,
              "#bd3786"
             ],
             [
              0.5555555555555556,
              "#d8576b"
             ],
             [
              0.6666666666666666,
              "#ed7953"
             ],
             [
              0.7777777777777778,
              "#fb9f3a"
             ],
             [
              0.8888888888888888,
              "#fdca26"
             ],
             [
              1,
              "#f0f921"
             ]
            ],
            "type": "histogram2d"
           }
          ],
          "histogram2dcontour": [
           {
            "colorbar": {
             "outlinewidth": 0,
             "ticks": ""
            },
            "colorscale": [
             [
              0,
              "#0d0887"
             ],
             [
              0.1111111111111111,
              "#46039f"
             ],
             [
              0.2222222222222222,
              "#7201a8"
             ],
             [
              0.3333333333333333,
              "#9c179e"
             ],
             [
              0.4444444444444444,
              "#bd3786"
             ],
             [
              0.5555555555555556,
              "#d8576b"
             ],
             [
              0.6666666666666666,
              "#ed7953"
             ],
             [
              0.7777777777777778,
              "#fb9f3a"
             ],
             [
              0.8888888888888888,
              "#fdca26"
             ],
             [
              1,
              "#f0f921"
             ]
            ],
            "type": "histogram2dcontour"
           }
          ],
          "mesh3d": [
           {
            "colorbar": {
             "outlinewidth": 0,
             "ticks": ""
            },
            "type": "mesh3d"
           }
          ],
          "parcoords": [
           {
            "line": {
             "colorbar": {
              "outlinewidth": 0,
              "ticks": ""
             }
            },
            "type": "parcoords"
           }
          ],
          "pie": [
           {
            "automargin": true,
            "type": "pie"
           }
          ],
          "scatter": [
           {
            "fillpattern": {
             "fillmode": "overlay",
             "size": 10,
             "solidity": 0.2
            },
            "type": "scatter"
           }
          ],
          "scatter3d": [
           {
            "line": {
             "colorbar": {
              "outlinewidth": 0,
              "ticks": ""
             }
            },
            "marker": {
             "colorbar": {
              "outlinewidth": 0,
              "ticks": ""
             }
            },
            "type": "scatter3d"
           }
          ],
          "scattercarpet": [
           {
            "marker": {
             "colorbar": {
              "outlinewidth": 0,
              "ticks": ""
             }
            },
            "type": "scattercarpet"
           }
          ],
          "scattergeo": [
           {
            "marker": {
             "colorbar": {
              "outlinewidth": 0,
              "ticks": ""
             }
            },
            "type": "scattergeo"
           }
          ],
          "scattergl": [
           {
            "marker": {
             "colorbar": {
              "outlinewidth": 0,
              "ticks": ""
             }
            },
            "type": "scattergl"
           }
          ],
          "scattermapbox": [
           {
            "marker": {
             "colorbar": {
              "outlinewidth": 0,
              "ticks": ""
             }
            },
            "type": "scattermapbox"
           }
          ],
          "scatterpolar": [
           {
            "marker": {
             "colorbar": {
              "outlinewidth": 0,
              "ticks": ""
             }
            },
            "type": "scatterpolar"
           }
          ],
          "scatterpolargl": [
           {
            "marker": {
             "colorbar": {
              "outlinewidth": 0,
              "ticks": ""
             }
            },
            "type": "scatterpolargl"
           }
          ],
          "scatterternary": [
           {
            "marker": {
             "colorbar": {
              "outlinewidth": 0,
              "ticks": ""
             }
            },
            "type": "scatterternary"
           }
          ],
          "surface": [
           {
            "colorbar": {
             "outlinewidth": 0,
             "ticks": ""
            },
            "colorscale": [
             [
              0,
              "#0d0887"
             ],
             [
              0.1111111111111111,
              "#46039f"
             ],
             [
              0.2222222222222222,
              "#7201a8"
             ],
             [
              0.3333333333333333,
              "#9c179e"
             ],
             [
              0.4444444444444444,
              "#bd3786"
             ],
             [
              0.5555555555555556,
              "#d8576b"
             ],
             [
              0.6666666666666666,
              "#ed7953"
             ],
             [
              0.7777777777777778,
              "#fb9f3a"
             ],
             [
              0.8888888888888888,
              "#fdca26"
             ],
             [
              1,
              "#f0f921"
             ]
            ],
            "type": "surface"
           }
          ],
          "table": [
           {
            "cells": {
             "fill": {
              "color": "#EBF0F8"
             },
             "line": {
              "color": "white"
             }
            },
            "header": {
             "fill": {
              "color": "#C8D4E3"
             },
             "line": {
              "color": "white"
             }
            },
            "type": "table"
           }
          ]
         },
         "layout": {
          "annotationdefaults": {
           "arrowcolor": "#2a3f5f",
           "arrowhead": 0,
           "arrowwidth": 1
          },
          "autotypenumbers": "strict",
          "coloraxis": {
           "colorbar": {
            "outlinewidth": 0,
            "ticks": ""
           }
          },
          "colorscale": {
           "diverging": [
            [
             0,
             "#8e0152"
            ],
            [
             0.1,
             "#c51b7d"
            ],
            [
             0.2,
             "#de77ae"
            ],
            [
             0.3,
             "#f1b6da"
            ],
            [
             0.4,
             "#fde0ef"
            ],
            [
             0.5,
             "#f7f7f7"
            ],
            [
             0.6,
             "#e6f5d0"
            ],
            [
             0.7,
             "#b8e186"
            ],
            [
             0.8,
             "#7fbc41"
            ],
            [
             0.9,
             "#4d9221"
            ],
            [
             1,
             "#276419"
            ]
           ],
           "sequential": [
            [
             0,
             "#0d0887"
            ],
            [
             0.1111111111111111,
             "#46039f"
            ],
            [
             0.2222222222222222,
             "#7201a8"
            ],
            [
             0.3333333333333333,
             "#9c179e"
            ],
            [
             0.4444444444444444,
             "#bd3786"
            ],
            [
             0.5555555555555556,
             "#d8576b"
            ],
            [
             0.6666666666666666,
             "#ed7953"
            ],
            [
             0.7777777777777778,
             "#fb9f3a"
            ],
            [
             0.8888888888888888,
             "#fdca26"
            ],
            [
             1,
             "#f0f921"
            ]
           ],
           "sequentialminus": [
            [
             0,
             "#0d0887"
            ],
            [
             0.1111111111111111,
             "#46039f"
            ],
            [
             0.2222222222222222,
             "#7201a8"
            ],
            [
             0.3333333333333333,
             "#9c179e"
            ],
            [
             0.4444444444444444,
             "#bd3786"
            ],
            [
             0.5555555555555556,
             "#d8576b"
            ],
            [
             0.6666666666666666,
             "#ed7953"
            ],
            [
             0.7777777777777778,
             "#fb9f3a"
            ],
            [
             0.8888888888888888,
             "#fdca26"
            ],
            [
             1,
             "#f0f921"
            ]
           ]
          },
          "colorway": [
           "#636efa",
           "#EF553B",
           "#00cc96",
           "#ab63fa",
           "#FFA15A",
           "#19d3f3",
           "#FF6692",
           "#B6E880",
           "#FF97FF",
           "#FECB52"
          ],
          "font": {
           "color": "#2a3f5f"
          },
          "geo": {
           "bgcolor": "white",
           "lakecolor": "white",
           "landcolor": "#E5ECF6",
           "showlakes": true,
           "showland": true,
           "subunitcolor": "white"
          },
          "hoverlabel": {
           "align": "left"
          },
          "hovermode": "closest",
          "mapbox": {
           "style": "light"
          },
          "paper_bgcolor": "white",
          "plot_bgcolor": "#E5ECF6",
          "polar": {
           "angularaxis": {
            "gridcolor": "white",
            "linecolor": "white",
            "ticks": ""
           },
           "bgcolor": "#E5ECF6",
           "radialaxis": {
            "gridcolor": "white",
            "linecolor": "white",
            "ticks": ""
           }
          },
          "scene": {
           "xaxis": {
            "backgroundcolor": "#E5ECF6",
            "gridcolor": "white",
            "gridwidth": 2,
            "linecolor": "white",
            "showbackground": true,
            "ticks": "",
            "zerolinecolor": "white"
           },
           "yaxis": {
            "backgroundcolor": "#E5ECF6",
            "gridcolor": "white",
            "gridwidth": 2,
            "linecolor": "white",
            "showbackground": true,
            "ticks": "",
            "zerolinecolor": "white"
           },
           "zaxis": {
            "backgroundcolor": "#E5ECF6",
            "gridcolor": "white",
            "gridwidth": 2,
            "linecolor": "white",
            "showbackground": true,
            "ticks": "",
            "zerolinecolor": "white"
           }
          },
          "shapedefaults": {
           "line": {
            "color": "#2a3f5f"
           }
          },
          "ternary": {
           "aaxis": {
            "gridcolor": "white",
            "linecolor": "white",
            "ticks": ""
           },
           "baxis": {
            "gridcolor": "white",
            "linecolor": "white",
            "ticks": ""
           },
           "bgcolor": "#E5ECF6",
           "caxis": {
            "gridcolor": "white",
            "linecolor": "white",
            "ticks": ""
           }
          },
          "title": {
           "x": 0.05
          },
          "xaxis": {
           "automargin": true,
           "gridcolor": "white",
           "linecolor": "white",
           "ticks": "",
           "title": {
            "standoff": 15
           },
           "zerolinecolor": "white",
           "zerolinewidth": 2
          },
          "yaxis": {
           "automargin": true,
           "gridcolor": "white",
           "linecolor": "white",
           "ticks": "",
           "title": {
            "standoff": 15
           },
           "zerolinecolor": "white",
           "zerolinewidth": 2
          }
         }
        },
        "xaxis": {
         "anchor": "y",
         "domain": [
          0,
          1
         ],
         "title": {
          "text": "index"
         }
        },
        "yaxis": {
         "anchor": "x",
         "domain": [
          0,
          1
         ],
         "title": {
          "text": "value"
         }
        }
       }
      }
     },
     "metadata": {},
     "output_type": "display_data"
    }
   ],
   "source": [
    "# analisis null value\n",
    "df_irregularities.isna().sum().plot(kind='bar')"
   ]
  },
  {
   "cell_type": "code",
   "execution_count": 5,
   "metadata": {},
   "outputs": [
    {
     "data": {
      "text/html": [
       "<div>\n",
       "<style scoped>\n",
       "    .dataframe tbody tr th:only-of-type {\n",
       "        vertical-align: middle;\n",
       "    }\n",
       "\n",
       "    .dataframe tbody tr th {\n",
       "        vertical-align: top;\n",
       "    }\n",
       "\n",
       "    .dataframe thead th {\n",
       "        text-align: right;\n",
       "    }\n",
       "</style>\n",
       "<table border=\"1\" class=\"dataframe\">\n",
       "  <thead>\n",
       "    <tr style=\"text-align: right;\">\n",
       "      <th></th>\n",
       "      <th>kemendagri_kabupaten_kode</th>\n",
       "      <th>jam_level</th>\n",
       "      <th>median_length</th>\n",
       "      <th>median_delay_seconds</th>\n",
       "      <th>median_regular_speed</th>\n",
       "      <th>total_records</th>\n",
       "      <th>cause_type</th>\n",
       "      <th>median_seconds</th>\n",
       "      <th>median_speed</th>\n",
       "      <th>median_jam_level</th>\n",
       "      <th>id</th>\n",
       "    </tr>\n",
       "  </thead>\n",
       "  <tbody>\n",
       "    <tr>\n",
       "      <th>count</th>\n",
       "      <td>4.051000e+03</td>\n",
       "      <td>4051.000000</td>\n",
       "      <td>4051.000000</td>\n",
       "      <td>4051.000000</td>\n",
       "      <td>4051.000000</td>\n",
       "      <td>4051.000000</td>\n",
       "      <td>0.0</td>\n",
       "      <td>4051.000000</td>\n",
       "      <td>4051.000000</td>\n",
       "      <td>4051.000000</td>\n",
       "      <td>4.051000e+03</td>\n",
       "    </tr>\n",
       "    <tr>\n",
       "      <th>mean</th>\n",
       "      <td>3.271000e+01</td>\n",
       "      <td>3.542582</td>\n",
       "      <td>1232.675389</td>\n",
       "      <td>567.778697</td>\n",
       "      <td>20.019296</td>\n",
       "      <td>15.730190</td>\n",
       "      <td>NaN</td>\n",
       "      <td>688.843125</td>\n",
       "      <td>7.244319</td>\n",
       "      <td>3.542582</td>\n",
       "      <td>1.543578e+06</td>\n",
       "    </tr>\n",
       "    <tr>\n",
       "      <th>std</th>\n",
       "      <td>7.106305e-15</td>\n",
       "      <td>0.603571</td>\n",
       "      <td>732.053520</td>\n",
       "      <td>280.972259</td>\n",
       "      <td>11.149602</td>\n",
       "      <td>17.365754</td>\n",
       "      <td>NaN</td>\n",
       "      <td>297.049553</td>\n",
       "      <td>4.563263</td>\n",
       "      <td>0.603571</td>\n",
       "      <td>2.515182e+04</td>\n",
       "    </tr>\n",
       "    <tr>\n",
       "      <th>min</th>\n",
       "      <td>3.271000e+01</td>\n",
       "      <td>1.000000</td>\n",
       "      <td>500.000000</td>\n",
       "      <td>60.000000</td>\n",
       "      <td>4.050000</td>\n",
       "      <td>1.000000</td>\n",
       "      <td>NaN</td>\n",
       "      <td>118.000000</td>\n",
       "      <td>0.880000</td>\n",
       "      <td>1.000000</td>\n",
       "      <td>1.492792e+06</td>\n",
       "    </tr>\n",
       "    <tr>\n",
       "      <th>25%</th>\n",
       "      <td>3.271000e+01</td>\n",
       "      <td>3.000000</td>\n",
       "      <td>747.000000</td>\n",
       "      <td>381.500000</td>\n",
       "      <td>14.017500</td>\n",
       "      <td>4.000000</td>\n",
       "      <td>NaN</td>\n",
       "      <td>493.000000</td>\n",
       "      <td>4.280000</td>\n",
       "      <td>3.000000</td>\n",
       "      <td>1.524546e+06</td>\n",
       "    </tr>\n",
       "    <tr>\n",
       "      <th>50%</th>\n",
       "      <td>3.271000e+01</td>\n",
       "      <td>4.000000</td>\n",
       "      <td>1072.000000</td>\n",
       "      <td>541.000000</td>\n",
       "      <td>18.345001</td>\n",
       "      <td>10.000000</td>\n",
       "      <td>NaN</td>\n",
       "      <td>661.000000</td>\n",
       "      <td>6.220000</td>\n",
       "      <td>4.000000</td>\n",
       "      <td>1.546230e+06</td>\n",
       "    </tr>\n",
       "    <tr>\n",
       "      <th>75%</th>\n",
       "      <td>3.271000e+01</td>\n",
       "      <td>4.000000</td>\n",
       "      <td>1420.000000</td>\n",
       "      <td>701.000000</td>\n",
       "      <td>23.277501</td>\n",
       "      <td>21.000000</td>\n",
       "      <td>NaN</td>\n",
       "      <td>839.000000</td>\n",
       "      <td>8.920000</td>\n",
       "      <td>4.000000</td>\n",
       "      <td>1.566736e+06</td>\n",
       "    </tr>\n",
       "    <tr>\n",
       "      <th>max</th>\n",
       "      <td>3.271000e+01</td>\n",
       "      <td>4.000000</td>\n",
       "      <td>7105.000000</td>\n",
       "      <td>2588.500000</td>\n",
       "      <td>92.710000</td>\n",
       "      <td>126.000000</td>\n",
       "      <td>NaN</td>\n",
       "      <td>2676.500000</td>\n",
       "      <td>51.425000</td>\n",
       "      <td>4.000000</td>\n",
       "      <td>1.583286e+06</td>\n",
       "    </tr>\n",
       "  </tbody>\n",
       "</table>\n",
       "</div>"
      ],
      "text/plain": [
       "       kemendagri_kabupaten_kode    jam_level  median_length  \\\n",
       "count               4.051000e+03  4051.000000    4051.000000   \n",
       "mean                3.271000e+01     3.542582    1232.675389   \n",
       "std                 7.106305e-15     0.603571     732.053520   \n",
       "min                 3.271000e+01     1.000000     500.000000   \n",
       "25%                 3.271000e+01     3.000000     747.000000   \n",
       "50%                 3.271000e+01     4.000000    1072.000000   \n",
       "75%                 3.271000e+01     4.000000    1420.000000   \n",
       "max                 3.271000e+01     4.000000    7105.000000   \n",
       "\n",
       "       median_delay_seconds  median_regular_speed  total_records  cause_type  \\\n",
       "count           4051.000000           4051.000000    4051.000000         0.0   \n",
       "mean             567.778697             20.019296      15.730190         NaN   \n",
       "std              280.972259             11.149602      17.365754         NaN   \n",
       "min               60.000000              4.050000       1.000000         NaN   \n",
       "25%              381.500000             14.017500       4.000000         NaN   \n",
       "50%              541.000000             18.345001      10.000000         NaN   \n",
       "75%              701.000000             23.277501      21.000000         NaN   \n",
       "max             2588.500000             92.710000     126.000000         NaN   \n",
       "\n",
       "       median_seconds  median_speed  median_jam_level            id  \n",
       "count     4051.000000   4051.000000       4051.000000  4.051000e+03  \n",
       "mean       688.843125      7.244319          3.542582  1.543578e+06  \n",
       "std        297.049553      4.563263          0.603571  2.515182e+04  \n",
       "min        118.000000      0.880000          1.000000  1.492792e+06  \n",
       "25%        493.000000      4.280000          3.000000  1.524546e+06  \n",
       "50%        661.000000      6.220000          4.000000  1.546230e+06  \n",
       "75%        839.000000      8.920000          4.000000  1.566736e+06  \n",
       "max       2676.500000     51.425000          4.000000  1.583286e+06  "
      ]
     },
     "execution_count": 5,
     "metadata": {},
     "output_type": "execute_result"
    }
   ],
   "source": [
    "# analisis statistik\n",
    "df_irregularities.describe()"
   ]
  },
  {
   "cell_type": "code",
   "execution_count": 7,
   "metadata": {},
   "outputs": [
    {
     "name": "stdout",
     "output_type": "stream",
     "text": [
      "<class 'pandas.core.frame.DataFrame'>\n",
      "RangeIndex: 4051 entries, 0 to 4050\n",
      "Data columns (total 16 columns):\n",
      " #   Column                     Non-Null Count  Dtype  \n",
      "---  ------                     --------------  -----  \n",
      " 0   time                       4051 non-null   object \n",
      " 1   kemendagri_kabupaten_kode  4051 non-null   float64\n",
      " 2   kemendagri_kabupaten_nama  4051 non-null   object \n",
      " 3   street                     4051 non-null   object \n",
      " 4   jam_level                  4051 non-null   int64  \n",
      " 5   median_length              4051 non-null   float64\n",
      " 6   median_delay_seconds       4051 non-null   float64\n",
      " 7   median_regular_speed       4051 non-null   float64\n",
      " 8   total_records              4051 non-null   int64  \n",
      " 9   cause_type                 0 non-null      float64\n",
      " 10  median_seconds             4051 non-null   float64\n",
      " 11  median_speed               4051 non-null   float64\n",
      " 12  date                       4051 non-null   object \n",
      " 13  median_jam_level           4051 non-null   float64\n",
      " 14  id                         4051 non-null   int64  \n",
      " 15  geometry                   4051 non-null   object \n",
      "dtypes: float64(8), int64(3), object(5)\n",
      "memory usage: 506.5+ KB\n",
      "None\n"
     ]
    },
    {
     "data": {
      "text/plain": [
       "array([4., 3., 2., 1.])"
      ]
     },
     "execution_count": 7,
     "metadata": {},
     "output_type": "execute_result"
    }
   ],
   "source": [
    "# analisis kolom\n",
    "print(df_irregularities.info())\n",
    "df_irregularities['median_jam_level'].unique()"
   ]
  },
  {
   "cell_type": "code",
   "execution_count": 8,
   "metadata": {},
   "outputs": [
    {
     "name": "stdout",
     "output_type": "stream",
     "text": [
      "0 N9 Raden KH Abdullah bin Nuh\n",
      "1 N9 Jalan Raya Pajajaran\n",
      "2 N9 Jalan Raya Dramaga\n"
     ]
    }
   ],
   "source": [
    "# no null, all row are ok\n",
    "for i, street in enumerate(['N9 Raden KH Abdullah bin Nuh', 'N9 Jalan Raya Pajajaran', 'N9 Jalan Raya Dramaga']):\n",
    "  print(i, street)\n",
    "  df_irr_sample = df_irregularities.loc[(df_irregularities['street'] == street)]\n",
    "  df_irr_sample = df_irr_sample.drop(['id', 'kemendagri_kabupaten_kode', 'kemendagri_kabupaten_nama', 'street'\n",
    "  , 'jam_level', 'total_records', 'cause_type', 'date', 'id', 'geometry'], axis=1)\n",
    "  df_irr_sample['time'] = pd.to_datetime(df_irr_sample['time'])\n",
    "  # df_irr_agg = df_irr_sample.groupby(pd.Grouper(key=\"time\", freq='1H')).mean()\n",
    "  df_irr_sample.to_csv(r'D:\\DSLS\\Mini project\\DS\\clean_code\\data\\transformed\\irregularities\\sample_irr_{}.csv'.format(i))"
   ]
  },
  {
   "attachments": {},
   "cell_type": "markdown",
   "metadata": {},
   "source": [
    "# Null handling setiap jalan"
   ]
  },
  {
   "attachments": {},
   "cell_type": "markdown",
   "metadata": {},
   "source": [
    "## jalan 0"
   ]
  },
  {
   "cell_type": "code",
   "execution_count": 13,
   "metadata": {},
   "outputs": [
    {
     "data": {
      "text/plain": [
       "time                  0\n",
       "median_length       337\n",
       "median_delay        337\n",
       "median_speed_kmh    337\n",
       "median_level        337\n",
       "dtype: int64"
      ]
     },
     "execution_count": 13,
     "metadata": {},
     "output_type": "execute_result"
    }
   ],
   "source": [
    "df_sample_jams = pd.read_csv(r'D:\\DSLS\\Mini project\\DS\\results\\jams\\sample_jams_0.csv')\n",
    "df_sample_jams.isnull().sum()"
   ]
  },
  {
   "cell_type": "code",
   "execution_count": 14,
   "metadata": {},
   "outputs": [
    {
     "name": "stdout",
     "output_type": "stream",
     "text": [
      "jam 0, null value: 45/60\n",
      "jam 1, null value: 52/60\n",
      "jam 2, null value: 53/60\n",
      "jam 3, null value: 53/60\n",
      "jam 4, null value: 50/60\n",
      "jam 5, null value: 36/60\n",
      "jam 6, null value: 7/61\n",
      "jam 7, null value: 2/61\n",
      "jam 8, null value: 1/61\n",
      "jam 9, null value: 0/61\n",
      "jam 10, null value: 0/61\n",
      "jam 11, null value: 0/61\n",
      "jam 12, null value: 0/61\n",
      "jam 13, null value: 0/61\n",
      "jam 14, null value: 0/61\n",
      "jam 15, null value: 0/61\n",
      "jam 16, null value: 0/61\n",
      "jam 17, null value: 0/61\n",
      "jam 18, null value: 0/61\n",
      "jam 19, null value: 0/61\n",
      "jam 20, null value: 1/61\n",
      "jam 21, null value: 1/61\n",
      "jam 22, null value: 8/61\n",
      "jam 23, null value: 28/61\n",
      "total:  337\n"
     ]
    }
   ],
   "source": [
    "df_sample_jams = pd.read_csv(r'D:\\DSLS\\Mini project\\DS\\results\\jams\\sample_jams_0.csv')\n",
    "# df_sample_jams.isnull().sum()\n",
    "df_sample_jams['time'] = pd.to_datetime(df_sample_jams['time'])\n",
    "df_sample_jams = df_sample_jams.set_index('time')\n",
    "total = 0\n",
    "for i in range(0, 24):\n",
    "  total_row = len(df_sample_jams[df_sample_jams.index.hour == i])\n",
    "  null_value = df_sample_jams[df_sample_jams.index.hour == i].isna().sum()[1]\n",
    "  total += null_value\n",
    "  print(f\"jam {i}, null value: {null_value}/{total_row}\")\n",
    "print('total: ', total)"
   ]
  },
  {
   "cell_type": "code",
   "execution_count": 15,
   "metadata": {},
   "outputs": [
    {
     "name": "stdout",
     "output_type": "stream",
     "text": [
      "421 data cleaned\n"
     ]
    }
   ],
   "source": [
    "def clean_df(df_jams_agg):\n",
    "  list_index = []\n",
    "  for i in [0, 1, 2, 3, 4, 5, 23]:\n",
    "    list_index.extend(df_jams_agg[df_jams_agg.index.hour == i].index)\n",
    "  print(str(len(list_index))+' data cleaned')\n",
    "  df_jams_agg_clean = df_jams_agg.drop(list_index)\n",
    "  for i in [6,7,8,20,21,22]:\n",
    "    df_null = df_jams_agg_clean[df_jams_agg_clean.index.hour == i]\n",
    "    replaced_index = df_null[df_null.median_length.isnull()].index\n",
    "    median_values = []\n",
    "    for col in df_null.columns:\n",
    "      if col == 'median_level':\n",
    "        median_values.append(round(df_null[col].mean(), 0))\n",
    "        continue\n",
    "      median_values.append(df_null[col].median())\n",
    "    for idx in replaced_index:\n",
    "      for col_idx, col_name in enumerate(df_null.columns):\n",
    "        df_jams_agg_clean.loc[idx, col_name] = median_values[col_idx]\n",
    "  df_jams_agg_clean['median_level'] = df_jams_agg_clean['median_level'].astype(int)\n",
    "  return df_jams_agg_clean\n",
    "\n",
    "df_jams_agg_clean = clean_df(df_sample_jams)\n",
    "df_jams_agg_clean\n",
    "df_jams_agg_clean.to_csv(r'D:\\DSLS\\Mini project\\DS\\results\\jams\\sample_jams_cleaned_0.csv')"
   ]
  },
  {
   "attachments": {},
   "cell_type": "markdown",
   "metadata": {},
   "source": [
    "## jalan 1"
   ]
  },
  {
   "cell_type": "code",
   "execution_count": 11,
   "metadata": {},
   "outputs": [
    {
     "data": {
      "text/plain": [
       "time                  0\n",
       "median_length       301\n",
       "median_delay        301\n",
       "median_speed_kmh    301\n",
       "median_level        301\n",
       "dtype: int64"
      ]
     },
     "execution_count": 11,
     "metadata": {},
     "output_type": "execute_result"
    }
   ],
   "source": [
    "df_sample_jams = pd.read_csv(r'D:\\DSLS\\Mini project\\DS\\results\\jams\\sample_jams_1.csv')\n",
    "df_sample_jams.isnull().sum()"
   ]
  },
  {
   "cell_type": "code",
   "execution_count": 32,
   "metadata": {},
   "outputs": [
    {
     "data": {
      "text/html": [
       "<div>\n",
       "<style scoped>\n",
       "    .dataframe tbody tr th:only-of-type {\n",
       "        vertical-align: middle;\n",
       "    }\n",
       "\n",
       "    .dataframe tbody tr th {\n",
       "        vertical-align: top;\n",
       "    }\n",
       "\n",
       "    .dataframe thead th {\n",
       "        text-align: right;\n",
       "    }\n",
       "</style>\n",
       "<table border=\"1\" class=\"dataframe\">\n",
       "  <thead>\n",
       "    <tr style=\"text-align: right;\">\n",
       "      <th></th>\n",
       "      <th>time</th>\n",
       "      <th>median_length</th>\n",
       "      <th>median_delay</th>\n",
       "      <th>median_speed_kmh</th>\n",
       "      <th>median_level</th>\n",
       "    </tr>\n",
       "  </thead>\n",
       "  <tbody>\n",
       "    <tr>\n",
       "      <th>0</th>\n",
       "      <td>2022-07-06 01:00:00</td>\n",
       "      <td>808.00</td>\n",
       "      <td>73.00</td>\n",
       "      <td>19.920000</td>\n",
       "      <td>2.0</td>\n",
       "    </tr>\n",
       "    <tr>\n",
       "      <th>1</th>\n",
       "      <td>2022-07-06 02:00:00</td>\n",
       "      <td>NaN</td>\n",
       "      <td>NaN</td>\n",
       "      <td>NaN</td>\n",
       "      <td>NaN</td>\n",
       "    </tr>\n",
       "    <tr>\n",
       "      <th>2</th>\n",
       "      <td>2022-07-06 03:00:00</td>\n",
       "      <td>NaN</td>\n",
       "      <td>NaN</td>\n",
       "      <td>NaN</td>\n",
       "      <td>NaN</td>\n",
       "    </tr>\n",
       "    <tr>\n",
       "      <th>3</th>\n",
       "      <td>2022-07-06 04:00:00</td>\n",
       "      <td>NaN</td>\n",
       "      <td>NaN</td>\n",
       "      <td>NaN</td>\n",
       "      <td>NaN</td>\n",
       "    </tr>\n",
       "    <tr>\n",
       "      <th>4</th>\n",
       "      <td>2022-07-06 05:00:00</td>\n",
       "      <td>NaN</td>\n",
       "      <td>NaN</td>\n",
       "      <td>NaN</td>\n",
       "      <td>NaN</td>\n",
       "    </tr>\n",
       "    <tr>\n",
       "      <th>5</th>\n",
       "      <td>2022-07-06 06:00:00</td>\n",
       "      <td>NaN</td>\n",
       "      <td>NaN</td>\n",
       "      <td>NaN</td>\n",
       "      <td>NaN</td>\n",
       "    </tr>\n",
       "    <tr>\n",
       "      <th>6</th>\n",
       "      <td>2022-07-06 07:00:00</td>\n",
       "      <td>1096.00</td>\n",
       "      <td>105.50</td>\n",
       "      <td>17.529999</td>\n",
       "      <td>2.5</td>\n",
       "    </tr>\n",
       "    <tr>\n",
       "      <th>7</th>\n",
       "      <td>2022-07-06 08:00:00</td>\n",
       "      <td>1152.75</td>\n",
       "      <td>94.25</td>\n",
       "      <td>20.830000</td>\n",
       "      <td>2.5</td>\n",
       "    </tr>\n",
       "    <tr>\n",
       "      <th>8</th>\n",
       "      <td>2022-07-06 09:00:00</td>\n",
       "      <td>1144.00</td>\n",
       "      <td>96.00</td>\n",
       "      <td>16.570000</td>\n",
       "      <td>2.0</td>\n",
       "    </tr>\n",
       "    <tr>\n",
       "      <th>9</th>\n",
       "      <td>2022-07-06 10:00:00</td>\n",
       "      <td>1174.00</td>\n",
       "      <td>83.50</td>\n",
       "      <td>22.230000</td>\n",
       "      <td>2.0</td>\n",
       "    </tr>\n",
       "    <tr>\n",
       "      <th>10</th>\n",
       "      <td>2022-07-06 11:00:00</td>\n",
       "      <td>1578.00</td>\n",
       "      <td>114.50</td>\n",
       "      <td>21.830000</td>\n",
       "      <td>2.0</td>\n",
       "    </tr>\n",
       "    <tr>\n",
       "      <th>11</th>\n",
       "      <td>2022-07-06 12:00:00</td>\n",
       "      <td>1397.00</td>\n",
       "      <td>138.50</td>\n",
       "      <td>19.850001</td>\n",
       "      <td>2.5</td>\n",
       "    </tr>\n",
       "    <tr>\n",
       "      <th>12</th>\n",
       "      <td>2022-07-06 13:00:00</td>\n",
       "      <td>1213.25</td>\n",
       "      <td>133.25</td>\n",
       "      <td>18.700000</td>\n",
       "      <td>2.5</td>\n",
       "    </tr>\n",
       "    <tr>\n",
       "      <th>13</th>\n",
       "      <td>2022-07-06 14:00:00</td>\n",
       "      <td>1276.00</td>\n",
       "      <td>143.75</td>\n",
       "      <td>19.990000</td>\n",
       "      <td>2.5</td>\n",
       "    </tr>\n",
       "    <tr>\n",
       "      <th>14</th>\n",
       "      <td>2022-07-06 15:00:00</td>\n",
       "      <td>1073.50</td>\n",
       "      <td>133.75</td>\n",
       "      <td>18.497500</td>\n",
       "      <td>2.5</td>\n",
       "    </tr>\n",
       "    <tr>\n",
       "      <th>15</th>\n",
       "      <td>2022-07-06 16:00:00</td>\n",
       "      <td>1220.00</td>\n",
       "      <td>147.50</td>\n",
       "      <td>17.915000</td>\n",
       "      <td>2.5</td>\n",
       "    </tr>\n",
       "    <tr>\n",
       "      <th>16</th>\n",
       "      <td>2022-07-06 17:00:00</td>\n",
       "      <td>1494.00</td>\n",
       "      <td>199.50</td>\n",
       "      <td>17.452500</td>\n",
       "      <td>2.5</td>\n",
       "    </tr>\n",
       "    <tr>\n",
       "      <th>17</th>\n",
       "      <td>2022-07-06 18:00:00</td>\n",
       "      <td>1417.50</td>\n",
       "      <td>149.50</td>\n",
       "      <td>16.855000</td>\n",
       "      <td>2.5</td>\n",
       "    </tr>\n",
       "    <tr>\n",
       "      <th>18</th>\n",
       "      <td>2022-07-06 19:00:00</td>\n",
       "      <td>1508.00</td>\n",
       "      <td>127.00</td>\n",
       "      <td>18.330000</td>\n",
       "      <td>2.5</td>\n",
       "    </tr>\n",
       "    <tr>\n",
       "      <th>19</th>\n",
       "      <td>2022-07-06 20:00:00</td>\n",
       "      <td>777.25</td>\n",
       "      <td>138.75</td>\n",
       "      <td>12.497500</td>\n",
       "      <td>2.5</td>\n",
       "    </tr>\n",
       "    <tr>\n",
       "      <th>20</th>\n",
       "      <td>2022-07-06 21:00:00</td>\n",
       "      <td>1403.00</td>\n",
       "      <td>69.25</td>\n",
       "      <td>25.615000</td>\n",
       "      <td>1.5</td>\n",
       "    </tr>\n",
       "    <tr>\n",
       "      <th>21</th>\n",
       "      <td>2022-07-06 22:00:00</td>\n",
       "      <td>839.00</td>\n",
       "      <td>83.00</td>\n",
       "      <td>20.590000</td>\n",
       "      <td>2.0</td>\n",
       "    </tr>\n",
       "    <tr>\n",
       "      <th>22</th>\n",
       "      <td>2022-07-06 23:00:00</td>\n",
       "      <td>NaN</td>\n",
       "      <td>NaN</td>\n",
       "      <td>NaN</td>\n",
       "      <td>NaN</td>\n",
       "    </tr>\n",
       "    <tr>\n",
       "      <th>23</th>\n",
       "      <td>2022-07-07 00:00:00</td>\n",
       "      <td>NaN</td>\n",
       "      <td>NaN</td>\n",
       "      <td>NaN</td>\n",
       "      <td>NaN</td>\n",
       "    </tr>\n",
       "    <tr>\n",
       "      <th>24</th>\n",
       "      <td>2022-07-07 01:00:00</td>\n",
       "      <td>656.00</td>\n",
       "      <td>78.00</td>\n",
       "      <td>13.680000</td>\n",
       "      <td>1.0</td>\n",
       "    </tr>\n",
       "    <tr>\n",
       "      <th>25</th>\n",
       "      <td>2022-07-07 02:00:00</td>\n",
       "      <td>NaN</td>\n",
       "      <td>NaN</td>\n",
       "      <td>NaN</td>\n",
       "      <td>NaN</td>\n",
       "    </tr>\n",
       "    <tr>\n",
       "      <th>26</th>\n",
       "      <td>2022-07-07 03:00:00</td>\n",
       "      <td>NaN</td>\n",
       "      <td>NaN</td>\n",
       "      <td>NaN</td>\n",
       "      <td>NaN</td>\n",
       "    </tr>\n",
       "    <tr>\n",
       "      <th>27</th>\n",
       "      <td>2022-07-07 04:00:00</td>\n",
       "      <td>NaN</td>\n",
       "      <td>NaN</td>\n",
       "      <td>NaN</td>\n",
       "      <td>NaN</td>\n",
       "    </tr>\n",
       "  </tbody>\n",
       "</table>\n",
       "</div>"
      ],
      "text/plain": [
       "                   time  median_length  median_delay  median_speed_kmh  \\\n",
       "0   2022-07-06 01:00:00         808.00         73.00         19.920000   \n",
       "1   2022-07-06 02:00:00            NaN           NaN               NaN   \n",
       "2   2022-07-06 03:00:00            NaN           NaN               NaN   \n",
       "3   2022-07-06 04:00:00            NaN           NaN               NaN   \n",
       "4   2022-07-06 05:00:00            NaN           NaN               NaN   \n",
       "5   2022-07-06 06:00:00            NaN           NaN               NaN   \n",
       "6   2022-07-06 07:00:00        1096.00        105.50         17.529999   \n",
       "7   2022-07-06 08:00:00        1152.75         94.25         20.830000   \n",
       "8   2022-07-06 09:00:00        1144.00         96.00         16.570000   \n",
       "9   2022-07-06 10:00:00        1174.00         83.50         22.230000   \n",
       "10  2022-07-06 11:00:00        1578.00        114.50         21.830000   \n",
       "11  2022-07-06 12:00:00        1397.00        138.50         19.850001   \n",
       "12  2022-07-06 13:00:00        1213.25        133.25         18.700000   \n",
       "13  2022-07-06 14:00:00        1276.00        143.75         19.990000   \n",
       "14  2022-07-06 15:00:00        1073.50        133.75         18.497500   \n",
       "15  2022-07-06 16:00:00        1220.00        147.50         17.915000   \n",
       "16  2022-07-06 17:00:00        1494.00        199.50         17.452500   \n",
       "17  2022-07-06 18:00:00        1417.50        149.50         16.855000   \n",
       "18  2022-07-06 19:00:00        1508.00        127.00         18.330000   \n",
       "19  2022-07-06 20:00:00         777.25        138.75         12.497500   \n",
       "20  2022-07-06 21:00:00        1403.00         69.25         25.615000   \n",
       "21  2022-07-06 22:00:00         839.00         83.00         20.590000   \n",
       "22  2022-07-06 23:00:00            NaN           NaN               NaN   \n",
       "23  2022-07-07 00:00:00            NaN           NaN               NaN   \n",
       "24  2022-07-07 01:00:00         656.00         78.00         13.680000   \n",
       "25  2022-07-07 02:00:00            NaN           NaN               NaN   \n",
       "26  2022-07-07 03:00:00            NaN           NaN               NaN   \n",
       "27  2022-07-07 04:00:00            NaN           NaN               NaN   \n",
       "\n",
       "    median_level  \n",
       "0            2.0  \n",
       "1            NaN  \n",
       "2            NaN  \n",
       "3            NaN  \n",
       "4            NaN  \n",
       "5            NaN  \n",
       "6            2.5  \n",
       "7            2.5  \n",
       "8            2.0  \n",
       "9            2.0  \n",
       "10           2.0  \n",
       "11           2.5  \n",
       "12           2.5  \n",
       "13           2.5  \n",
       "14           2.5  \n",
       "15           2.5  \n",
       "16           2.5  \n",
       "17           2.5  \n",
       "18           2.5  \n",
       "19           2.5  \n",
       "20           1.5  \n",
       "21           2.0  \n",
       "22           NaN  \n",
       "23           NaN  \n",
       "24           1.0  \n",
       "25           NaN  \n",
       "26           NaN  \n",
       "27           NaN  "
      ]
     },
     "execution_count": 32,
     "metadata": {},
     "output_type": "execute_result"
    }
   ],
   "source": [
    "df_sample_jams.head(28)"
   ]
  },
  {
   "cell_type": "code",
   "execution_count": 12,
   "metadata": {},
   "outputs": [
    {
     "name": "stdout",
     "output_type": "stream",
     "text": [
      "jam 0, null value: 31/62\n",
      "jam 1, null value: 38/62\n",
      "jam 2, null value: 42/62\n",
      "jam 3, null value: 48/62\n",
      "jam 4, null value: 50/62\n",
      "jam 5, null value: 39/62\n",
      "jam 6, null value: 8/62\n",
      "jam 7, null value: 2/62\n",
      "jam 8, null value: 1/62\n",
      "jam 9, null value: 1/62\n",
      "jam 10, null value: 1/62\n",
      "jam 11, null value: 1/62\n",
      "jam 12, null value: 1/62\n",
      "jam 13, null value: 1/62\n",
      "jam 14, null value: 1/62\n",
      "jam 15, null value: 1/62\n",
      "jam 16, null value: 1/62\n",
      "jam 17, null value: 1/62\n",
      "jam 18, null value: 1/62\n",
      "jam 19, null value: 1/62\n",
      "jam 20, null value: 1/62\n",
      "jam 21, null value: 2/62\n",
      "jam 22, null value: 6/62\n",
      "jam 23, null value: 22/62\n",
      "total:  301\n"
     ]
    }
   ],
   "source": [
    "df_sample_jams = pd.read_csv(r'D:\\DSLS\\Mini project\\DS\\results\\jams\\sample_jams_1.csv')\n",
    "# df_sample_jams.isnull().sum()\n",
    "df_sample_jams['time'] = pd.to_datetime(df_sample_jams['time'])\n",
    "df_sample_jams = df_sample_jams.set_index('time')\n",
    "total = 0\n",
    "for i in range(0, 24):\n",
    "  total_row = len(df_sample_jams[df_sample_jams.index.hour == i])\n",
    "  null_value = df_sample_jams[df_sample_jams.index.hour == i].isna().sum()[1]\n",
    "  total += null_value\n",
    "  print(f\"jam {i}, null value: {null_value}/{total_row}\")\n",
    "print('total: ', total)"
   ]
  },
  {
   "cell_type": "code",
   "execution_count": 8,
   "metadata": {},
   "outputs": [
    {
     "data": {
      "text/html": [
       "<div>\n",
       "<style scoped>\n",
       "    .dataframe tbody tr th:only-of-type {\n",
       "        vertical-align: middle;\n",
       "    }\n",
       "\n",
       "    .dataframe tbody tr th {\n",
       "        vertical-align: top;\n",
       "    }\n",
       "\n",
       "    .dataframe thead th {\n",
       "        text-align: right;\n",
       "    }\n",
       "</style>\n",
       "<table border=\"1\" class=\"dataframe\">\n",
       "  <thead>\n",
       "    <tr style=\"text-align: right;\">\n",
       "      <th></th>\n",
       "      <th>median_length</th>\n",
       "      <th>median_delay</th>\n",
       "      <th>median_speed_kmh</th>\n",
       "      <th>median_level</th>\n",
       "    </tr>\n",
       "    <tr>\n",
       "      <th>time</th>\n",
       "      <th></th>\n",
       "      <th></th>\n",
       "      <th></th>\n",
       "      <th></th>\n",
       "    </tr>\n",
       "  </thead>\n",
       "  <tbody>\n",
       "    <tr>\n",
       "      <th>2022-09-04 19:00:00</th>\n",
       "      <td>1412.5</td>\n",
       "      <td>119.00</td>\n",
       "      <td>19.592500</td>\n",
       "      <td>2.5</td>\n",
       "    </tr>\n",
       "    <tr>\n",
       "      <th>2022-09-04 20:00:00</th>\n",
       "      <td>1545.0</td>\n",
       "      <td>111.00</td>\n",
       "      <td>21.115000</td>\n",
       "      <td>2.5</td>\n",
       "    </tr>\n",
       "    <tr>\n",
       "      <th>2022-09-04 21:00:00</th>\n",
       "      <td>1695.5</td>\n",
       "      <td>81.50</td>\n",
       "      <td>28.312501</td>\n",
       "      <td>1.5</td>\n",
       "    </tr>\n",
       "    <tr>\n",
       "      <th>2022-09-04 22:00:00</th>\n",
       "      <td>284.0</td>\n",
       "      <td>66.50</td>\n",
       "      <td>8.405001</td>\n",
       "      <td>3.0</td>\n",
       "    </tr>\n",
       "    <tr>\n",
       "      <th>2022-09-04 23:00:00</th>\n",
       "      <td>966.5</td>\n",
       "      <td>101.75</td>\n",
       "      <td>16.167500</td>\n",
       "      <td>2.5</td>\n",
       "    </tr>\n",
       "  </tbody>\n",
       "</table>\n",
       "</div>"
      ],
      "text/plain": [
       "                     median_length  median_delay  median_speed_kmh  \\\n",
       "time                                                                 \n",
       "2022-09-04 19:00:00         1412.5        119.00         19.592500   \n",
       "2022-09-04 20:00:00         1545.0        111.00         21.115000   \n",
       "2022-09-04 21:00:00         1695.5         81.50         28.312501   \n",
       "2022-09-04 22:00:00          284.0         66.50          8.405001   \n",
       "2022-09-04 23:00:00          966.5        101.75         16.167500   \n",
       "\n",
       "                     median_level  \n",
       "time                               \n",
       "2022-09-04 19:00:00           2.5  \n",
       "2022-09-04 20:00:00           2.5  \n",
       "2022-09-04 21:00:00           1.5  \n",
       "2022-09-04 22:00:00           3.0  \n",
       "2022-09-04 23:00:00           2.5  "
      ]
     },
     "execution_count": 8,
     "metadata": {},
     "output_type": "execute_result"
    }
   ],
   "source": [
    "df_sample_jams = df_sample_jams.drop(df_sample_jams[df_sample_jams.index.date == datetime.date(2022,9,5)].index)\n",
    "df_sample_jams = df_sample_jams.drop(df_sample_jams[df_sample_jams.index.date == datetime.date(2022,9,6)].index)\n",
    "df_sample_jams.tail()"
   ]
  },
  {
   "cell_type": "code",
   "execution_count": 10,
   "metadata": {},
   "outputs": [
    {
     "name": "stdout",
     "output_type": "stream",
     "text": [
      "426 data cleaned\n"
     ]
    }
   ],
   "source": [
    "def clean_df(df_jams_agg):\n",
    "  list_index = []\n",
    "  for i in [0, 1, 2, 3, 4, 5, 23]:\n",
    "    list_index.extend(df_jams_agg[df_jams_agg.index.hour == i].index)\n",
    "  print(str(len(list_index))+' data cleaned')\n",
    "  df_jams_agg_clean = df_jams_agg.drop(list_index)\n",
    "  for i in [6,7,8,20,21,22]:\n",
    "    df_null = df_jams_agg_clean[df_jams_agg_clean.index.hour == i]\n",
    "    replaced_index = df_null[df_null.median_length.isnull()].index\n",
    "    median_values = []\n",
    "    for col in df_null.columns:\n",
    "      if col == 'median_level':\n",
    "        median_values.append(round(df_null[col].mean(), 0))\n",
    "        continue\n",
    "      median_values.append(df_null[col].median())\n",
    "    for idx in replaced_index:\n",
    "      for col_idx, col_name in enumerate(df_null.columns):\n",
    "        df_jams_agg_clean.loc[idx, col_name] = median_values[col_idx]\n",
    "  df_jams_agg_clean['median_level'] = df_jams_agg_clean['median_level'].astype(int)\n",
    "  return df_jams_agg_clean\n",
    "\n",
    "df_jams_agg_clean = clean_df(df_sample_jams)\n",
    "df_jams_agg_clean\n",
    "df_jams_agg_clean.to_csv(r'D:\\DSLS\\Mini project\\DS\\results\\jams\\sample_jams_cleaned_1.csv')"
   ]
  },
  {
   "attachments": {},
   "cell_type": "markdown",
   "metadata": {},
   "source": [
    "## jalan 2"
   ]
  },
  {
   "cell_type": "code",
   "execution_count": 16,
   "metadata": {},
   "outputs": [
    {
     "data": {
      "text/plain": [
       "time                  0\n",
       "median_length       391\n",
       "median_delay        391\n",
       "median_speed_kmh    391\n",
       "median_level        391\n",
       "dtype: int64"
      ]
     },
     "execution_count": 16,
     "metadata": {},
     "output_type": "execute_result"
    }
   ],
   "source": [
    "df_sample_jams = pd.read_csv(r'D:\\DSLS\\Mini project\\DS\\results\\jams\\sample_jams_2.csv')\n",
    "df_sample_jams.isnull().sum()"
   ]
  },
  {
   "cell_type": "code",
   "execution_count": 17,
   "metadata": {},
   "outputs": [
    {
     "name": "stdout",
     "output_type": "stream",
     "text": [
      "jam 0, null value: 48/60\n",
      "jam 1, null value: 58/60\n",
      "jam 2, null value: 59/60\n",
      "jam 3, null value: 58/60\n",
      "jam 4, null value: 57/60\n",
      "jam 5, null value: 47/60\n",
      "jam 6, null value: 13/61\n",
      "jam 7, null value: 2/61\n",
      "jam 8, null value: 2/61\n",
      "jam 9, null value: 0/61\n",
      "jam 10, null value: 0/61\n",
      "jam 11, null value: 0/61\n",
      "jam 12, null value: 0/61\n",
      "jam 13, null value: 0/61\n",
      "jam 14, null value: 0/61\n",
      "jam 15, null value: 0/61\n",
      "jam 16, null value: 0/61\n",
      "jam 17, null value: 0/61\n",
      "jam 18, null value: 0/61\n",
      "jam 19, null value: 0/61\n",
      "jam 20, null value: 1/61\n",
      "jam 21, null value: 1/61\n",
      "jam 22, null value: 12/61\n",
      "jam 23, null value: 33/61\n",
      "total:  391\n"
     ]
    }
   ],
   "source": [
    "df_sample_jams = pd.read_csv(r'D:\\DSLS\\Mini project\\DS\\results\\jams\\sample_jams_2.csv')\n",
    "df_sample_jams['time'] = pd.to_datetime(df_sample_jams['time'])\n",
    "df_sample_jams = df_sample_jams.set_index('time')\n",
    "total = 0\n",
    "for i in range(0, 24):\n",
    "  total_row = len(df_sample_jams[df_sample_jams.index.hour == i])\n",
    "  null_value = df_sample_jams[df_sample_jams.index.hour == i].isna().sum()[1]\n",
    "  total += null_value\n",
    "  print(f\"jam {i}, null value: {null_value}/{total_row}\")\n",
    "print('total: ', total)"
   ]
  },
  {
   "cell_type": "code",
   "execution_count": 18,
   "metadata": {},
   "outputs": [
    {
     "name": "stdout",
     "output_type": "stream",
     "text": [
      "421 data cleaned\n"
     ]
    }
   ],
   "source": [
    "def clean_df(df_jams_agg):\n",
    "  list_index = []\n",
    "  for i in [0, 1, 2, 3, 4, 5, 23]:\n",
    "    list_index.extend(df_jams_agg[df_jams_agg.index.hour == i].index)\n",
    "  print(str(len(list_index))+' data cleaned')\n",
    "  df_jams_agg_clean = df_jams_agg.drop(list_index)\n",
    "  for i in [6,7,8,20,21,22]:\n",
    "    df_null = df_jams_agg_clean[df_jams_agg_clean.index.hour == i]\n",
    "    replaced_index = df_null[df_null.median_length.isnull()].index\n",
    "    median_values = []\n",
    "    for col in df_null.columns:\n",
    "      if col == 'median_level':\n",
    "        median_values.append(round(df_null[col].mean(), 0))\n",
    "        continue\n",
    "      median_values.append(df_null[col].median())\n",
    "    for idx in replaced_index:\n",
    "      for col_idx, col_name in enumerate(df_null.columns):\n",
    "        df_jams_agg_clean.loc[idx, col_name] = median_values[col_idx]\n",
    "  df_jams_agg_clean['median_level'] = df_jams_agg_clean['median_level'].astype(int)\n",
    "  return df_jams_agg_clean\n",
    "\n",
    "df_jams_agg_clean = clean_df(df_sample_jams)\n",
    "df_jams_agg_clean\n",
    "df_jams_agg_clean.to_csv(r'D:\\DSLS\\Mini project\\DS\\results\\jams\\sample_jams_cleaned_2.csv')"
   ]
  }
 ],
 "metadata": {
  "kernelspec": {
   "display_name": "Python 3",
   "language": "python",
   "name": "python3"
  },
  "language_info": {
   "codemirror_mode": {
    "name": "ipython",
    "version": 3
   },
   "file_extension": ".py",
   "mimetype": "text/x-python",
   "name": "python",
   "nbconvert_exporter": "python",
   "pygments_lexer": "ipython3",
   "version": "3.9.2"
  },
  "orig_nbformat": 4,
  "vscode": {
   "interpreter": {
    "hash": "50c5c2b6e05db9fe8b3433ad8e6dc52eedfaade324407e06c6799762d580ed33"
   }
  }
 },
 "nbformat": 4,
 "nbformat_minor": 2
}
