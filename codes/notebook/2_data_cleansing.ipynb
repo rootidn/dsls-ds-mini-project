{
 "cells": [
  {
   "cell_type": "code",
   "execution_count": 1,
   "metadata": {},
   "outputs": [],
   "source": [
    "# import numpy as np\n",
    "import pandas as pd\n",
    "from matplotlib import pyplot as plt\n",
    "# import seaborn as sns\n",
    "pd.options.plotting.backend = \"plotly\"\n",
    "# pd.options.plotting.backend = \"matplotlib\"\n",
    "# import datetime\n",
    "# import math\n",
    "# import pandas_profiling as pp"
   ]
  },
  {
   "cell_type": "code",
   "execution_count": 6,
   "metadata": {},
   "outputs": [],
   "source": [
    "def null_per_hours(i):\n",
    "  df_sample_jams = pd.read_csv(r'D:\\DSLS\\Mini project\\DS\\clean_code\\data\\transformed\\jams\\sample_jams_{}.csv'.format(i))\n",
    "  print(df_sample_jams.isnull().sum())\n",
    "  # mengetahui jumlah null di setiap jam\n",
    "  df_sample_jams['time'] = pd.to_datetime(df_sample_jams['time'])\n",
    "  df_sample_jams = df_sample_jams.set_index('time')\n",
    "  total = 0\n",
    "  for i in range(0, 24):\n",
    "    total_row = len(df_sample_jams[df_sample_jams.index.hour == i])\n",
    "    null_value = df_sample_jams[df_sample_jams.index.hour == i].isna().sum()[1]\n",
    "    total += null_value\n",
    "    print(f\"jam {i}, null value: {null_value}/{total_row}\")\n",
    "  print('total: ', total)"
   ]
  },
  {
   "attachments": {},
   "cell_type": "markdown",
   "metadata": {},
   "source": [
    "## Null per jam"
   ]
  },
  {
   "attachments": {},
   "cell_type": "markdown",
   "metadata": {},
   "source": [
    "### Jalan 0 : N9 Raden KH Abdullah bin Nuh"
   ]
  },
  {
   "cell_type": "code",
   "execution_count": 11,
   "metadata": {},
   "outputs": [
    {
     "name": "stdout",
     "output_type": "stream",
     "text": [
      "time                  0\n",
      "median_length       337\n",
      "median_delay        337\n",
      "median_speed_kmh    337\n",
      "median_level        337\n",
      "dtype: int64\n",
      "jam 0, null value: 45/60\n",
      "jam 1, null value: 52/60\n",
      "jam 2, null value: 53/60\n",
      "jam 3, null value: 53/60\n",
      "jam 4, null value: 50/60\n",
      "jam 5, null value: 36/60\n",
      "jam 6, null value: 7/61\n",
      "jam 7, null value: 2/61\n",
      "jam 8, null value: 1/61\n",
      "jam 9, null value: 0/61\n",
      "jam 10, null value: 0/61\n",
      "jam 11, null value: 0/61\n",
      "jam 12, null value: 0/61\n",
      "jam 13, null value: 0/61\n",
      "jam 14, null value: 0/61\n",
      "jam 15, null value: 0/61\n",
      "jam 16, null value: 0/61\n",
      "jam 17, null value: 0/61\n",
      "jam 18, null value: 0/61\n",
      "jam 19, null value: 0/61\n",
      "jam 20, null value: 1/61\n",
      "jam 21, null value: 1/61\n",
      "jam 22, null value: 8/61\n",
      "jam 23, null value: 28/61\n",
      "total:  337\n"
     ]
    }
   ],
   "source": [
    "null_per_hours(0)"
   ]
  },
  {
   "attachments": {},
   "cell_type": "markdown",
   "metadata": {},
   "source": [
    "### Jalan 1 : N9 Jalan Raya Pajajaran"
   ]
  },
  {
   "cell_type": "code",
   "execution_count": 7,
   "metadata": {},
   "outputs": [
    {
     "name": "stdout",
     "output_type": "stream",
     "text": [
      "time                  0\n",
      "median_length       301\n",
      "median_delay        301\n",
      "median_speed_kmh    301\n",
      "median_level        301\n",
      "dtype: int64\n",
      "jam 0, null value: 31/62\n",
      "jam 1, null value: 38/62\n",
      "jam 2, null value: 42/62\n",
      "jam 3, null value: 48/62\n",
      "jam 4, null value: 50/62\n",
      "jam 5, null value: 39/62\n",
      "jam 6, null value: 8/62\n",
      "jam 7, null value: 2/62\n",
      "jam 8, null value: 1/62\n",
      "jam 9, null value: 1/62\n",
      "jam 10, null value: 1/62\n",
      "jam 11, null value: 1/62\n",
      "jam 12, null value: 1/62\n",
      "jam 13, null value: 1/62\n",
      "jam 14, null value: 1/62\n",
      "jam 15, null value: 1/62\n",
      "jam 16, null value: 1/62\n",
      "jam 17, null value: 1/62\n",
      "jam 18, null value: 1/62\n",
      "jam 19, null value: 1/62\n",
      "jam 20, null value: 1/62\n",
      "jam 21, null value: 2/62\n",
      "jam 22, null value: 6/62\n",
      "jam 23, null value: 22/62\n",
      "total:  301\n"
     ]
    }
   ],
   "source": [
    "null_per_hours(1)"
   ]
  },
  {
   "attachments": {},
   "cell_type": "markdown",
   "metadata": {},
   "source": [
    "### Jalan 2 : N9 Jalan Raya Dramaga"
   ]
  },
  {
   "cell_type": "code",
   "execution_count": 9,
   "metadata": {},
   "outputs": [
    {
     "name": "stdout",
     "output_type": "stream",
     "text": [
      "time                  0\n",
      "median_length       391\n",
      "median_delay        391\n",
      "median_speed_kmh    391\n",
      "median_level        391\n",
      "dtype: int64\n",
      "jam 0, null value: 48/60\n",
      "jam 1, null value: 58/60\n",
      "jam 2, null value: 59/60\n",
      "jam 3, null value: 58/60\n",
      "jam 4, null value: 57/60\n",
      "jam 5, null value: 47/60\n",
      "jam 6, null value: 13/61\n",
      "jam 7, null value: 2/61\n",
      "jam 8, null value: 2/61\n",
      "jam 9, null value: 0/61\n",
      "jam 10, null value: 0/61\n",
      "jam 11, null value: 0/61\n",
      "jam 12, null value: 0/61\n",
      "jam 13, null value: 0/61\n",
      "jam 14, null value: 0/61\n",
      "jam 15, null value: 0/61\n",
      "jam 16, null value: 0/61\n",
      "jam 17, null value: 0/61\n",
      "jam 18, null value: 0/61\n",
      "jam 19, null value: 0/61\n",
      "jam 20, null value: 1/61\n",
      "jam 21, null value: 1/61\n",
      "jam 22, null value: 12/61\n",
      "jam 23, null value: 33/61\n",
      "total:  391\n"
     ]
    }
   ],
   "source": [
    "null_per_hours(2)"
   ]
  },
  {
   "attachments": {},
   "cell_type": "markdown",
   "metadata": {},
   "source": [
    "## Replace null"
   ]
  },
  {
   "cell_type": "code",
   "execution_count": 4,
   "metadata": {},
   "outputs": [
    {
     "name": "stdout",
     "output_type": "stream",
     "text": [
      "61 data cleaned - N9 Raden KH Abdullah bin Nuh\n",
      "62 data cleaned - N9 Jalan Raya Pajajaran\n",
      "61 data cleaned - N9 Jalan Raya Dramaga\n"
     ]
    }
   ],
   "source": [
    "for i, street in enumerate(['N9 Raden KH Abdullah bin Nuh', 'N9 Jalan Raya Pajajaran', 'N9 Jalan Raya Dramaga']):\n",
    "  df_jams_agg = pd.read_csv(r'D:\\DSLS\\Mini project\\DS\\clean_code\\data\\transformed\\jams\\sample_jams_{}.csv'.format(i))\n",
    "  df_jams_agg['time'] = pd.to_datetime(df_jams_agg['time'])\n",
    "  df_jams_agg = df_jams_agg.set_index('time')\n",
    "  for dh in [0, 1, 2, 3, 4, 5, 23]:\n",
    "    list_index = df_jams_agg[df_jams_agg.index.hour == dh].index\n",
    "    df_null = df_jams_agg[df_jams_agg.index.hour == dh]\n",
    "    for li in list_index:\n",
    "      df_jams_agg.loc[li, ['median_length', 'median_delay', 'median_speed_kmh', 'median_level']] = [\n",
    "        df_null['median_length'].mean(),\n",
    "        df_null['median_delay'].mean(),\n",
    "        df_null['median_speed_kmh'].mean(),\n",
    "        int(df_null['median_level'].mean())]\n",
    "  print(str(len(list_index))+' data cleaned - '+ street)\n",
    "  # df_jams_agg_clean = df_jams_agg.drop(list_index)\n",
    "  df_jams_agg_clean = df_jams_agg\n",
    "  # median_length median_delay median_speed_kmh median_level\n",
    "  for fh in [6,7,8,20,21,22]:\n",
    "    df_null = df_jams_agg_clean[df_jams_agg_clean.index.hour == fh]\n",
    "    replaced_index = df_null[df_null.median_length.isnull()].index\n",
    "    median_values = []\n",
    "    for col in df_null.columns:\n",
    "      if col in ['median_level', 'median_delay']:\n",
    "        median_values.append(round(df_null[col].mean(), 2))\n",
    "        continue\n",
    "      median_values.append(df_null[col].median())\n",
    "    for idx in replaced_index:\n",
    "      for col_idx, col_name in enumerate(df_null.columns):\n",
    "        df_jams_agg_clean.loc[idx, col_name] = median_values[col_idx]\n",
    "  df_jams_agg_clean.to_csv(r'D:\\DSLS\\Mini project\\DS\\clean_code\\data\\transformed\\jams\\sample_jams_clean_{}.csv'.format(i))\n",
    "  "
   ]
  }
 ],
 "metadata": {
  "kernelspec": {
   "display_name": "Python 3",
   "language": "python",
   "name": "python3"
  },
  "language_info": {
   "codemirror_mode": {
    "name": "ipython",
    "version": 3
   },
   "file_extension": ".py",
   "mimetype": "text/x-python",
   "name": "python",
   "nbconvert_exporter": "python",
   "pygments_lexer": "ipython3",
   "version": "3.9.2"
  },
  "orig_nbformat": 4,
  "vscode": {
   "interpreter": {
    "hash": "50c5c2b6e05db9fe8b3433ad8e6dc52eedfaade324407e06c6799762d580ed33"
   }
  }
 },
 "nbformat": 4,
 "nbformat_minor": 2
}
